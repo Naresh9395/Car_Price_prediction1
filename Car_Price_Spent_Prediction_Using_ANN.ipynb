{
  "nbformat": 4,
  "nbformat_minor": 0,
  "metadata": {
    "colab": {
      "name": "Car Price Spent Prediction Using ANN.ipynb",
      "provenance": [],
      "collapsed_sections": []
    },
    "kernelspec": {
      "name": "python3",
      "display_name": "Python 3"
    },
    "language_info": {
      "name": "python"
    }
  },
  "cells": [
    {
      "cell_type": "markdown",
      "metadata": {
        "id": "D9K_63a9vc8J"
      },
      "source": [
        "#Car Price Prediction Using ANN"
      ]
    },
    {
      "cell_type": "markdown",
      "metadata": {
        "id": "jBSywJP-QSLa"
      },
      "source": [
        "Importing Required Libraries"
      ]
    },
    {
      "cell_type": "code",
      "metadata": {
        "id": "K3o_odRFwbBm"
      },
      "source": [
        "import numpy as np\n",
        "import pandas as pd\n",
        "import matplotlib.pyplot as plt\n",
        "import seaborn as sb"
      ],
      "execution_count": null,
      "outputs": []
    },
    {
      "cell_type": "code",
      "metadata": {
        "id": "WJ82roH_wbGe"
      },
      "source": [
        "car_df = pd.read_csv('/content/Car_Purchasing_Data.csv', encoding='ISO-8859-1')"
      ],
      "execution_count": null,
      "outputs": []
    },
    {
      "cell_type": "code",
      "metadata": {
        "colab": {
          "base_uri": "https://localhost:8080/",
          "height": 200
        },
        "id": "8RPR6uO8wbMO",
        "outputId": "da8327af-cd2b-4064-add6-39a3c2226d29"
      },
      "source": [
        "car_df.head()"
      ],
      "execution_count": null,
      "outputs": [
        {
          "output_type": "execute_result",
          "data": {
            "text/html": [
              "<div>\n",
              "<style scoped>\n",
              "    .dataframe tbody tr th:only-of-type {\n",
              "        vertical-align: middle;\n",
              "    }\n",
              "\n",
              "    .dataframe tbody tr th {\n",
              "        vertical-align: top;\n",
              "    }\n",
              "\n",
              "    .dataframe thead th {\n",
              "        text-align: right;\n",
              "    }\n",
              "</style>\n",
              "<table border=\"1\" class=\"dataframe\">\n",
              "  <thead>\n",
              "    <tr style=\"text-align: right;\">\n",
              "      <th></th>\n",
              "      <th>Customer Name</th>\n",
              "      <th>Customer e-mail</th>\n",
              "      <th>Country</th>\n",
              "      <th>Gender</th>\n",
              "      <th>Age</th>\n",
              "      <th>Annual Salary</th>\n",
              "      <th>Credit Card Debt</th>\n",
              "      <th>Net Worth</th>\n",
              "      <th>Car Purchase Amount</th>\n",
              "    </tr>\n",
              "  </thead>\n",
              "  <tbody>\n",
              "    <tr>\n",
              "      <th>0</th>\n",
              "      <td>Martina Avila</td>\n",
              "      <td>cubilia.Curae.Phasellus@quisaccumsanconvallis.edu</td>\n",
              "      <td>Bulgaria</td>\n",
              "      <td>0</td>\n",
              "      <td>41.851720</td>\n",
              "      <td>62812.09301</td>\n",
              "      <td>11609.380910</td>\n",
              "      <td>238961.2505</td>\n",
              "      <td>35321.45877</td>\n",
              "    </tr>\n",
              "    <tr>\n",
              "      <th>1</th>\n",
              "      <td>Harlan Barnes</td>\n",
              "      <td>eu.dolor@diam.co.uk</td>\n",
              "      <td>Belize</td>\n",
              "      <td>0</td>\n",
              "      <td>40.870623</td>\n",
              "      <td>66646.89292</td>\n",
              "      <td>9572.957136</td>\n",
              "      <td>530973.9078</td>\n",
              "      <td>45115.52566</td>\n",
              "    </tr>\n",
              "    <tr>\n",
              "      <th>2</th>\n",
              "      <td>Naomi Rodriquez</td>\n",
              "      <td>vulputate.mauris.sagittis@ametconsectetueradip...</td>\n",
              "      <td>Algeria</td>\n",
              "      <td>1</td>\n",
              "      <td>43.152897</td>\n",
              "      <td>53798.55112</td>\n",
              "      <td>11160.355060</td>\n",
              "      <td>638467.1773</td>\n",
              "      <td>42925.70921</td>\n",
              "    </tr>\n",
              "    <tr>\n",
              "      <th>3</th>\n",
              "      <td>Jade Cunningham</td>\n",
              "      <td>malesuada@dignissim.com</td>\n",
              "      <td>Cook Islands</td>\n",
              "      <td>1</td>\n",
              "      <td>58.271369</td>\n",
              "      <td>79370.03798</td>\n",
              "      <td>14426.164850</td>\n",
              "      <td>548599.0524</td>\n",
              "      <td>67422.36313</td>\n",
              "    </tr>\n",
              "    <tr>\n",
              "      <th>4</th>\n",
              "      <td>Cedric Leach</td>\n",
              "      <td>felis.ullamcorper.viverra@egetmollislectus.net</td>\n",
              "      <td>Brazil</td>\n",
              "      <td>1</td>\n",
              "      <td>57.313749</td>\n",
              "      <td>59729.15130</td>\n",
              "      <td>5358.712177</td>\n",
              "      <td>560304.0671</td>\n",
              "      <td>55915.46248</td>\n",
              "    </tr>\n",
              "  </tbody>\n",
              "</table>\n",
              "</div>"
            ],
            "text/plain": [
              "     Customer Name  ... Car Purchase Amount\n",
              "0    Martina Avila  ...         35321.45877\n",
              "1    Harlan Barnes  ...         45115.52566\n",
              "2  Naomi Rodriquez  ...         42925.70921\n",
              "3  Jade Cunningham  ...         67422.36313\n",
              "4     Cedric Leach  ...         55915.46248\n",
              "\n",
              "[5 rows x 9 columns]"
            ]
          },
          "metadata": {
            "tags": []
          },
          "execution_count": 20
        }
      ]
    },
    {
      "cell_type": "code",
      "metadata": {
        "colab": {
          "base_uri": "https://localhost:8080/",
          "height": 200
        },
        "id": "gU-7jLbAwbRp",
        "outputId": "adcf0a30-fac0-482e-8827-a056b31a3185"
      },
      "source": [
        "car_df.tail()"
      ],
      "execution_count": null,
      "outputs": [
        {
          "output_type": "execute_result",
          "data": {
            "text/html": [
              "<div>\n",
              "<style scoped>\n",
              "    .dataframe tbody tr th:only-of-type {\n",
              "        vertical-align: middle;\n",
              "    }\n",
              "\n",
              "    .dataframe tbody tr th {\n",
              "        vertical-align: top;\n",
              "    }\n",
              "\n",
              "    .dataframe thead th {\n",
              "        text-align: right;\n",
              "    }\n",
              "</style>\n",
              "<table border=\"1\" class=\"dataframe\">\n",
              "  <thead>\n",
              "    <tr style=\"text-align: right;\">\n",
              "      <th></th>\n",
              "      <th>Customer Name</th>\n",
              "      <th>Customer e-mail</th>\n",
              "      <th>Country</th>\n",
              "      <th>Gender</th>\n",
              "      <th>Age</th>\n",
              "      <th>Annual Salary</th>\n",
              "      <th>Credit Card Debt</th>\n",
              "      <th>Net Worth</th>\n",
              "      <th>Car Purchase Amount</th>\n",
              "    </tr>\n",
              "  </thead>\n",
              "  <tbody>\n",
              "    <tr>\n",
              "      <th>495</th>\n",
              "      <td>Walter</td>\n",
              "      <td>ligula@Cumsociis.ca</td>\n",
              "      <td>Nepal</td>\n",
              "      <td>0</td>\n",
              "      <td>41.462515</td>\n",
              "      <td>71942.40291</td>\n",
              "      <td>6995.902524</td>\n",
              "      <td>541670.1016</td>\n",
              "      <td>48901.44342</td>\n",
              "    </tr>\n",
              "    <tr>\n",
              "      <th>496</th>\n",
              "      <td>Vanna</td>\n",
              "      <td>Cum.sociis.natoque@Sedmolestie.edu</td>\n",
              "      <td>Zimbabwe</td>\n",
              "      <td>1</td>\n",
              "      <td>37.642000</td>\n",
              "      <td>56039.49793</td>\n",
              "      <td>12301.456790</td>\n",
              "      <td>360419.0988</td>\n",
              "      <td>31491.41457</td>\n",
              "    </tr>\n",
              "    <tr>\n",
              "      <th>497</th>\n",
              "      <td>Pearl</td>\n",
              "      <td>penatibus.et@massanonante.com</td>\n",
              "      <td>Philippines</td>\n",
              "      <td>1</td>\n",
              "      <td>53.943497</td>\n",
              "      <td>68888.77805</td>\n",
              "      <td>10611.606860</td>\n",
              "      <td>764531.3203</td>\n",
              "      <td>64147.28888</td>\n",
              "    </tr>\n",
              "    <tr>\n",
              "      <th>498</th>\n",
              "      <td>Nell</td>\n",
              "      <td>Quisque.varius@arcuVivamussit.net</td>\n",
              "      <td>Botswana</td>\n",
              "      <td>1</td>\n",
              "      <td>59.160509</td>\n",
              "      <td>49811.99062</td>\n",
              "      <td>14013.034510</td>\n",
              "      <td>337826.6382</td>\n",
              "      <td>45442.15353</td>\n",
              "    </tr>\n",
              "    <tr>\n",
              "      <th>499</th>\n",
              "      <td>Marla</td>\n",
              "      <td>Camaron.marla@hotmail.com</td>\n",
              "      <td>marlal</td>\n",
              "      <td>1</td>\n",
              "      <td>46.731152</td>\n",
              "      <td>61370.67766</td>\n",
              "      <td>9391.341628</td>\n",
              "      <td>462946.4924</td>\n",
              "      <td>45107.22566</td>\n",
              "    </tr>\n",
              "  </tbody>\n",
              "</table>\n",
              "</div>"
            ],
            "text/plain": [
              "    Customer Name  ... Car Purchase Amount\n",
              "495        Walter  ...         48901.44342\n",
              "496         Vanna  ...         31491.41457\n",
              "497         Pearl  ...         64147.28888\n",
              "498          Nell  ...         45442.15353\n",
              "499         Marla  ...         45107.22566\n",
              "\n",
              "[5 rows x 9 columns]"
            ]
          },
          "metadata": {
            "tags": []
          },
          "execution_count": 22
        }
      ]
    },
    {
      "cell_type": "code",
      "metadata": {
        "colab": {
          "base_uri": "https://localhost:8080/"
        },
        "id": "DsKuw-qBJv8x",
        "outputId": "5336de9c-4b2b-49fe-a7ad-41a2d232e0eb"
      },
      "source": [
        "car_df.columns"
      ],
      "execution_count": null,
      "outputs": [
        {
          "output_type": "execute_result",
          "data": {
            "text/plain": [
              "Index(['Customer Name', 'Customer e-mail', 'Country', 'Gender', 'Age',\n",
              "       'Annual Salary', 'Credit Card Debt', 'Net Worth',\n",
              "       'Car Purchase Amount'],\n",
              "      dtype='object')"
            ]
          },
          "metadata": {
            "tags": []
          },
          "execution_count": 23
        }
      ]
    },
    {
      "cell_type": "code",
      "metadata": {
        "colab": {
          "base_uri": "https://localhost:8080/"
        },
        "id": "F39qIyS9JwAa",
        "outputId": "5073aff9-a83d-4f53-8ed1-5944fd2abc98"
      },
      "source": [
        "car_df.shape"
      ],
      "execution_count": null,
      "outputs": [
        {
          "output_type": "execute_result",
          "data": {
            "text/plain": [
              "(500, 9)"
            ]
          },
          "metadata": {
            "tags": []
          },
          "execution_count": 24
        }
      ]
    },
    {
      "cell_type": "code",
      "metadata": {
        "colab": {
          "base_uri": "https://localhost:8080/"
        },
        "id": "_uo2JFymJwD6",
        "outputId": "50623150-e067-40f9-9360-87d6c3bccf13"
      },
      "source": [
        "car_df.info()"
      ],
      "execution_count": null,
      "outputs": [
        {
          "output_type": "stream",
          "text": [
            "<class 'pandas.core.frame.DataFrame'>\n",
            "RangeIndex: 500 entries, 0 to 499\n",
            "Data columns (total 9 columns):\n",
            " #   Column               Non-Null Count  Dtype  \n",
            "---  ------               --------------  -----  \n",
            " 0   Customer Name        500 non-null    object \n",
            " 1   Customer e-mail      500 non-null    object \n",
            " 2   Country              500 non-null    object \n",
            " 3   Gender               500 non-null    int64  \n",
            " 4   Age                  500 non-null    float64\n",
            " 5   Annual Salary        500 non-null    float64\n",
            " 6   Credit Card Debt     500 non-null    float64\n",
            " 7   Net Worth            500 non-null    float64\n",
            " 8   Car Purchase Amount  500 non-null    float64\n",
            "dtypes: float64(5), int64(1), object(3)\n",
            "memory usage: 35.3+ KB\n"
          ],
          "name": "stdout"
        }
      ]
    },
    {
      "cell_type": "code",
      "metadata": {
        "colab": {
          "base_uri": "https://localhost:8080/",
          "height": 290
        },
        "id": "U3ld67EWJwIY",
        "outputId": "b2753545-29f2-46e8-9e16-da99a0256a6a"
      },
      "source": [
        "car_df.describe()"
      ],
      "execution_count": null,
      "outputs": [
        {
          "output_type": "execute_result",
          "data": {
            "text/html": [
              "<div>\n",
              "<style scoped>\n",
              "    .dataframe tbody tr th:only-of-type {\n",
              "        vertical-align: middle;\n",
              "    }\n",
              "\n",
              "    .dataframe tbody tr th {\n",
              "        vertical-align: top;\n",
              "    }\n",
              "\n",
              "    .dataframe thead th {\n",
              "        text-align: right;\n",
              "    }\n",
              "</style>\n",
              "<table border=\"1\" class=\"dataframe\">\n",
              "  <thead>\n",
              "    <tr style=\"text-align: right;\">\n",
              "      <th></th>\n",
              "      <th>Gender</th>\n",
              "      <th>Age</th>\n",
              "      <th>Annual Salary</th>\n",
              "      <th>Credit Card Debt</th>\n",
              "      <th>Net Worth</th>\n",
              "      <th>Car Purchase Amount</th>\n",
              "    </tr>\n",
              "  </thead>\n",
              "  <tbody>\n",
              "    <tr>\n",
              "      <th>count</th>\n",
              "      <td>500.000000</td>\n",
              "      <td>500.000000</td>\n",
              "      <td>500.000000</td>\n",
              "      <td>500.000000</td>\n",
              "      <td>500.000000</td>\n",
              "      <td>500.000000</td>\n",
              "    </tr>\n",
              "    <tr>\n",
              "      <th>mean</th>\n",
              "      <td>0.506000</td>\n",
              "      <td>46.241674</td>\n",
              "      <td>62127.239608</td>\n",
              "      <td>9607.645049</td>\n",
              "      <td>431475.713625</td>\n",
              "      <td>44209.799218</td>\n",
              "    </tr>\n",
              "    <tr>\n",
              "      <th>std</th>\n",
              "      <td>0.500465</td>\n",
              "      <td>7.978862</td>\n",
              "      <td>11703.378228</td>\n",
              "      <td>3489.187973</td>\n",
              "      <td>173536.756340</td>\n",
              "      <td>10773.178744</td>\n",
              "    </tr>\n",
              "    <tr>\n",
              "      <th>min</th>\n",
              "      <td>0.000000</td>\n",
              "      <td>20.000000</td>\n",
              "      <td>20000.000000</td>\n",
              "      <td>100.000000</td>\n",
              "      <td>20000.000000</td>\n",
              "      <td>9000.000000</td>\n",
              "    </tr>\n",
              "    <tr>\n",
              "      <th>25%</th>\n",
              "      <td>0.000000</td>\n",
              "      <td>40.949969</td>\n",
              "      <td>54391.977195</td>\n",
              "      <td>7397.515792</td>\n",
              "      <td>299824.195900</td>\n",
              "      <td>37629.896040</td>\n",
              "    </tr>\n",
              "    <tr>\n",
              "      <th>50%</th>\n",
              "      <td>1.000000</td>\n",
              "      <td>46.049901</td>\n",
              "      <td>62915.497035</td>\n",
              "      <td>9655.035568</td>\n",
              "      <td>426750.120650</td>\n",
              "      <td>43997.783390</td>\n",
              "    </tr>\n",
              "    <tr>\n",
              "      <th>75%</th>\n",
              "      <td>1.000000</td>\n",
              "      <td>51.612263</td>\n",
              "      <td>70117.862005</td>\n",
              "      <td>11798.867487</td>\n",
              "      <td>557324.478725</td>\n",
              "      <td>51254.709517</td>\n",
              "    </tr>\n",
              "    <tr>\n",
              "      <th>max</th>\n",
              "      <td>1.000000</td>\n",
              "      <td>70.000000</td>\n",
              "      <td>100000.000000</td>\n",
              "      <td>20000.000000</td>\n",
              "      <td>1000000.000000</td>\n",
              "      <td>80000.000000</td>\n",
              "    </tr>\n",
              "  </tbody>\n",
              "</table>\n",
              "</div>"
            ],
            "text/plain": [
              "           Gender         Age  ...       Net Worth  Car Purchase Amount\n",
              "count  500.000000  500.000000  ...      500.000000           500.000000\n",
              "mean     0.506000   46.241674  ...   431475.713625         44209.799218\n",
              "std      0.500465    7.978862  ...   173536.756340         10773.178744\n",
              "min      0.000000   20.000000  ...    20000.000000          9000.000000\n",
              "25%      0.000000   40.949969  ...   299824.195900         37629.896040\n",
              "50%      1.000000   46.049901  ...   426750.120650         43997.783390\n",
              "75%      1.000000   51.612263  ...   557324.478725         51254.709517\n",
              "max      1.000000   70.000000  ...  1000000.000000         80000.000000\n",
              "\n",
              "[8 rows x 6 columns]"
            ]
          },
          "metadata": {
            "tags": []
          },
          "execution_count": 26
        }
      ]
    },
    {
      "cell_type": "markdown",
      "metadata": {
        "id": "XpAlDfaVOa_U"
      },
      "source": [
        "There are 425 memebers who are having annual salary greater than 50000 usd"
      ]
    },
    {
      "cell_type": "code",
      "metadata": {
        "colab": {
          "base_uri": "https://localhost:8080/",
          "height": 408
        },
        "id": "pI3Jm-pWMhTJ",
        "outputId": "553ad76a-5a0b-4f0d-e6cc-2668feb16192"
      },
      "source": [
        "car_df[car_df['Annual Salary'] > 50000.000000]"
      ],
      "execution_count": null,
      "outputs": [
        {
          "output_type": "execute_result",
          "data": {
            "text/html": [
              "<div>\n",
              "<style scoped>\n",
              "    .dataframe tbody tr th:only-of-type {\n",
              "        vertical-align: middle;\n",
              "    }\n",
              "\n",
              "    .dataframe tbody tr th {\n",
              "        vertical-align: top;\n",
              "    }\n",
              "\n",
              "    .dataframe thead th {\n",
              "        text-align: right;\n",
              "    }\n",
              "</style>\n",
              "<table border=\"1\" class=\"dataframe\">\n",
              "  <thead>\n",
              "    <tr style=\"text-align: right;\">\n",
              "      <th></th>\n",
              "      <th>Customer Name</th>\n",
              "      <th>Customer e-mail</th>\n",
              "      <th>Country</th>\n",
              "      <th>Gender</th>\n",
              "      <th>Age</th>\n",
              "      <th>Annual Salary</th>\n",
              "      <th>Credit Card Debt</th>\n",
              "      <th>Net Worth</th>\n",
              "      <th>Car Purchase Amount</th>\n",
              "    </tr>\n",
              "  </thead>\n",
              "  <tbody>\n",
              "    <tr>\n",
              "      <th>0</th>\n",
              "      <td>Martina Avila</td>\n",
              "      <td>cubilia.Curae.Phasellus@quisaccumsanconvallis.edu</td>\n",
              "      <td>Bulgaria</td>\n",
              "      <td>0</td>\n",
              "      <td>41.851720</td>\n",
              "      <td>62812.09301</td>\n",
              "      <td>11609.380910</td>\n",
              "      <td>238961.2505</td>\n",
              "      <td>35321.45877</td>\n",
              "    </tr>\n",
              "    <tr>\n",
              "      <th>1</th>\n",
              "      <td>Harlan Barnes</td>\n",
              "      <td>eu.dolor@diam.co.uk</td>\n",
              "      <td>Belize</td>\n",
              "      <td>0</td>\n",
              "      <td>40.870623</td>\n",
              "      <td>66646.89292</td>\n",
              "      <td>9572.957136</td>\n",
              "      <td>530973.9078</td>\n",
              "      <td>45115.52566</td>\n",
              "    </tr>\n",
              "    <tr>\n",
              "      <th>2</th>\n",
              "      <td>Naomi Rodriquez</td>\n",
              "      <td>vulputate.mauris.sagittis@ametconsectetueradip...</td>\n",
              "      <td>Algeria</td>\n",
              "      <td>1</td>\n",
              "      <td>43.152897</td>\n",
              "      <td>53798.55112</td>\n",
              "      <td>11160.355060</td>\n",
              "      <td>638467.1773</td>\n",
              "      <td>42925.70921</td>\n",
              "    </tr>\n",
              "    <tr>\n",
              "      <th>3</th>\n",
              "      <td>Jade Cunningham</td>\n",
              "      <td>malesuada@dignissim.com</td>\n",
              "      <td>Cook Islands</td>\n",
              "      <td>1</td>\n",
              "      <td>58.271369</td>\n",
              "      <td>79370.03798</td>\n",
              "      <td>14426.164850</td>\n",
              "      <td>548599.0524</td>\n",
              "      <td>67422.36313</td>\n",
              "    </tr>\n",
              "    <tr>\n",
              "      <th>4</th>\n",
              "      <td>Cedric Leach</td>\n",
              "      <td>felis.ullamcorper.viverra@egetmollislectus.net</td>\n",
              "      <td>Brazil</td>\n",
              "      <td>1</td>\n",
              "      <td>57.313749</td>\n",
              "      <td>59729.15130</td>\n",
              "      <td>5358.712177</td>\n",
              "      <td>560304.0671</td>\n",
              "      <td>55915.46248</td>\n",
              "    </tr>\n",
              "    <tr>\n",
              "      <th>...</th>\n",
              "      <td>...</td>\n",
              "      <td>...</td>\n",
              "      <td>...</td>\n",
              "      <td>...</td>\n",
              "      <td>...</td>\n",
              "      <td>...</td>\n",
              "      <td>...</td>\n",
              "      <td>...</td>\n",
              "      <td>...</td>\n",
              "    </tr>\n",
              "    <tr>\n",
              "      <th>494</th>\n",
              "      <td>Rigel</td>\n",
              "      <td>egestas.blandit.Nam@semvitaealiquam.com</td>\n",
              "      <td>Sao Tome and Principe</td>\n",
              "      <td>0</td>\n",
              "      <td>51.767418</td>\n",
              "      <td>77345.61633</td>\n",
              "      <td>6736.751680</td>\n",
              "      <td>665099.1390</td>\n",
              "      <td>64188.26862</td>\n",
              "    </tr>\n",
              "    <tr>\n",
              "      <th>495</th>\n",
              "      <td>Walter</td>\n",
              "      <td>ligula@Cumsociis.ca</td>\n",
              "      <td>Nepal</td>\n",
              "      <td>0</td>\n",
              "      <td>41.462515</td>\n",
              "      <td>71942.40291</td>\n",
              "      <td>6995.902524</td>\n",
              "      <td>541670.1016</td>\n",
              "      <td>48901.44342</td>\n",
              "    </tr>\n",
              "    <tr>\n",
              "      <th>496</th>\n",
              "      <td>Vanna</td>\n",
              "      <td>Cum.sociis.natoque@Sedmolestie.edu</td>\n",
              "      <td>Zimbabwe</td>\n",
              "      <td>1</td>\n",
              "      <td>37.642000</td>\n",
              "      <td>56039.49793</td>\n",
              "      <td>12301.456790</td>\n",
              "      <td>360419.0988</td>\n",
              "      <td>31491.41457</td>\n",
              "    </tr>\n",
              "    <tr>\n",
              "      <th>497</th>\n",
              "      <td>Pearl</td>\n",
              "      <td>penatibus.et@massanonante.com</td>\n",
              "      <td>Philippines</td>\n",
              "      <td>1</td>\n",
              "      <td>53.943497</td>\n",
              "      <td>68888.77805</td>\n",
              "      <td>10611.606860</td>\n",
              "      <td>764531.3203</td>\n",
              "      <td>64147.28888</td>\n",
              "    </tr>\n",
              "    <tr>\n",
              "      <th>499</th>\n",
              "      <td>Marla</td>\n",
              "      <td>Camaron.marla@hotmail.com</td>\n",
              "      <td>marlal</td>\n",
              "      <td>1</td>\n",
              "      <td>46.731152</td>\n",
              "      <td>61370.67766</td>\n",
              "      <td>9391.341628</td>\n",
              "      <td>462946.4924</td>\n",
              "      <td>45107.22566</td>\n",
              "    </tr>\n",
              "  </tbody>\n",
              "</table>\n",
              "<p>425 rows × 9 columns</p>\n",
              "</div>"
            ],
            "text/plain": [
              "       Customer Name  ... Car Purchase Amount\n",
              "0      Martina Avila  ...         35321.45877\n",
              "1      Harlan Barnes  ...         45115.52566\n",
              "2    Naomi Rodriquez  ...         42925.70921\n",
              "3    Jade Cunningham  ...         67422.36313\n",
              "4       Cedric Leach  ...         55915.46248\n",
              "..               ...  ...                 ...\n",
              "494            Rigel  ...         64188.26862\n",
              "495           Walter  ...         48901.44342\n",
              "496            Vanna  ...         31491.41457\n",
              "497            Pearl  ...         64147.28888\n",
              "499            Marla  ...         45107.22566\n",
              "\n",
              "[425 rows x 9 columns]"
            ]
          },
          "metadata": {
            "tags": []
          },
          "execution_count": 51
        }
      ]
    },
    {
      "cell_type": "markdown",
      "metadata": {
        "id": "47aIksBNOulj"
      },
      "source": [
        "There are 75 memebers who are having annual salary less than 50000 usd"
      ]
    },
    {
      "cell_type": "code",
      "metadata": {
        "colab": {
          "base_uri": "https://localhost:8080/",
          "height": 408
        },
        "id": "MmanIY5zMhQM",
        "outputId": "efbc1f04-8928-42e1-b221-989b5f51d748"
      },
      "source": [
        "car_df[car_df['Annual Salary'] < 50000.000000]"
      ],
      "execution_count": null,
      "outputs": [
        {
          "output_type": "execute_result",
          "data": {
            "text/html": [
              "<div>\n",
              "<style scoped>\n",
              "    .dataframe tbody tr th:only-of-type {\n",
              "        vertical-align: middle;\n",
              "    }\n",
              "\n",
              "    .dataframe tbody tr th {\n",
              "        vertical-align: top;\n",
              "    }\n",
              "\n",
              "    .dataframe thead th {\n",
              "        text-align: right;\n",
              "    }\n",
              "</style>\n",
              "<table border=\"1\" class=\"dataframe\">\n",
              "  <thead>\n",
              "    <tr style=\"text-align: right;\">\n",
              "      <th></th>\n",
              "      <th>Customer Name</th>\n",
              "      <th>Customer e-mail</th>\n",
              "      <th>Country</th>\n",
              "      <th>Gender</th>\n",
              "      <th>Age</th>\n",
              "      <th>Annual Salary</th>\n",
              "      <th>Credit Card Debt</th>\n",
              "      <th>Net Worth</th>\n",
              "      <th>Car Purchase Amount</th>\n",
              "    </tr>\n",
              "  </thead>\n",
              "  <tbody>\n",
              "    <tr>\n",
              "      <th>6</th>\n",
              "      <td>Griffin Rivera</td>\n",
              "      <td>vehicula@at.co.uk</td>\n",
              "      <td>Syria</td>\n",
              "      <td>1</td>\n",
              "      <td>46.607315</td>\n",
              "      <td>39814.52200</td>\n",
              "      <td>5958.460188</td>\n",
              "      <td>326373.1812</td>\n",
              "      <td>28925.70549</td>\n",
              "    </tr>\n",
              "    <tr>\n",
              "      <th>12</th>\n",
              "      <td>Quin Smith</td>\n",
              "      <td>nulla@ipsum.edu</td>\n",
              "      <td>Nicaragua</td>\n",
              "      <td>0</td>\n",
              "      <td>44.396494</td>\n",
              "      <td>37336.33830</td>\n",
              "      <td>10218.320920</td>\n",
              "      <td>430907.1673</td>\n",
              "      <td>28700.03340</td>\n",
              "    </tr>\n",
              "    <tr>\n",
              "      <th>30</th>\n",
              "      <td>Herman Stevenson</td>\n",
              "      <td>sociosqu.ad.litora@erat.com</td>\n",
              "      <td>Costa Rica</td>\n",
              "      <td>1</td>\n",
              "      <td>33.483130</td>\n",
              "      <td>39627.12480</td>\n",
              "      <td>9371.511071</td>\n",
              "      <td>319837.6593</td>\n",
              "      <td>17584.56963</td>\n",
              "    </tr>\n",
              "    <tr>\n",
              "      <th>36</th>\n",
              "      <td>Amery Cortez</td>\n",
              "      <td>semper.et.lacinia@Morbiquisurna.ca</td>\n",
              "      <td>Suriname</td>\n",
              "      <td>1</td>\n",
              "      <td>49.853871</td>\n",
              "      <td>47460.54809</td>\n",
              "      <td>7405.534271</td>\n",
              "      <td>430624.8142</td>\n",
              "      <td>38978.67458</td>\n",
              "    </tr>\n",
              "    <tr>\n",
              "      <th>37</th>\n",
              "      <td>Uriel Bradshaw</td>\n",
              "      <td>ultrices@Integersemelit.com</td>\n",
              "      <td>Turkey</td>\n",
              "      <td>1</td>\n",
              "      <td>22.000387</td>\n",
              "      <td>43131.78411</td>\n",
              "      <td>10917.140940</td>\n",
              "      <td>326742.7352</td>\n",
              "      <td>10092.22509</td>\n",
              "    </tr>\n",
              "    <tr>\n",
              "      <th>...</th>\n",
              "      <td>...</td>\n",
              "      <td>...</td>\n",
              "      <td>...</td>\n",
              "      <td>...</td>\n",
              "      <td>...</td>\n",
              "      <td>...</td>\n",
              "      <td>...</td>\n",
              "      <td>...</td>\n",
              "      <td>...</td>\n",
              "    </tr>\n",
              "    <tr>\n",
              "      <th>460</th>\n",
              "      <td>Piper</td>\n",
              "      <td>erat.neque@mattisvelitjusto.org</td>\n",
              "      <td>Malawi</td>\n",
              "      <td>0</td>\n",
              "      <td>40.477103</td>\n",
              "      <td>40727.39196</td>\n",
              "      <td>9725.549901</td>\n",
              "      <td>508528.9957</td>\n",
              "      <td>29556.79320</td>\n",
              "    </tr>\n",
              "    <tr>\n",
              "      <th>466</th>\n",
              "      <td>India</td>\n",
              "      <td>risus.at.fringilla@feugiat.ca</td>\n",
              "      <td>Nigeria</td>\n",
              "      <td>0</td>\n",
              "      <td>54.521605</td>\n",
              "      <td>32697.98161</td>\n",
              "      <td>10858.025260</td>\n",
              "      <td>218808.7553</td>\n",
              "      <td>28463.64326</td>\n",
              "    </tr>\n",
              "    <tr>\n",
              "      <th>469</th>\n",
              "      <td>Igor</td>\n",
              "      <td>Proin.eget@aliquetnecimperdiet.org</td>\n",
              "      <td>Grenada</td>\n",
              "      <td>0</td>\n",
              "      <td>36.514471</td>\n",
              "      <td>43739.97829</td>\n",
              "      <td>5933.177726</td>\n",
              "      <td>517110.9454</td>\n",
              "      <td>28164.86039</td>\n",
              "    </tr>\n",
              "    <tr>\n",
              "      <th>485</th>\n",
              "      <td>Dolan</td>\n",
              "      <td>ipsum.Phasellus@egestasblanditNam.edu</td>\n",
              "      <td>Yemen</td>\n",
              "      <td>1</td>\n",
              "      <td>60.416433</td>\n",
              "      <td>39460.00348</td>\n",
              "      <td>8769.290288</td>\n",
              "      <td>571245.3714</td>\n",
              "      <td>47443.74443</td>\n",
              "    </tr>\n",
              "    <tr>\n",
              "      <th>498</th>\n",
              "      <td>Nell</td>\n",
              "      <td>Quisque.varius@arcuVivamussit.net</td>\n",
              "      <td>Botswana</td>\n",
              "      <td>1</td>\n",
              "      <td>59.160509</td>\n",
              "      <td>49811.99062</td>\n",
              "      <td>14013.034510</td>\n",
              "      <td>337826.6382</td>\n",
              "      <td>45442.15353</td>\n",
              "    </tr>\n",
              "  </tbody>\n",
              "</table>\n",
              "<p>75 rows × 9 columns</p>\n",
              "</div>"
            ],
            "text/plain": [
              "        Customer Name  ... Car Purchase Amount\n",
              "6      Griffin Rivera  ...         28925.70549\n",
              "12         Quin Smith  ...         28700.03340\n",
              "30   Herman Stevenson  ...         17584.56963\n",
              "36       Amery Cortez  ...         38978.67458\n",
              "37     Uriel Bradshaw  ...         10092.22509\n",
              "..                ...  ...                 ...\n",
              "460             Piper  ...         29556.79320\n",
              "466             India  ...         28463.64326\n",
              "469              Igor  ...         28164.86039\n",
              "485             Dolan  ...         47443.74443\n",
              "498              Nell  ...         45442.15353\n",
              "\n",
              "[75 rows x 9 columns]"
            ]
          },
          "metadata": {
            "tags": []
          },
          "execution_count": 52
        }
      ]
    },
    {
      "cell_type": "markdown",
      "metadata": {
        "id": "5aLMscsRPDwX"
      },
      "source": [
        "Max Annual salary persom"
      ]
    },
    {
      "cell_type": "code",
      "metadata": {
        "colab": {
          "base_uri": "https://localhost:8080/",
          "height": 78
        },
        "id": "LPM3mh2OMhIC",
        "outputId": "afe31afb-5cc3-4dbf-e608-700cbacb14c2"
      },
      "source": [
        "car_df[car_df['Annual Salary'] == 100000.000000]"
      ],
      "execution_count": null,
      "outputs": [
        {
          "output_type": "execute_result",
          "data": {
            "text/html": [
              "<div>\n",
              "<style scoped>\n",
              "    .dataframe tbody tr th:only-of-type {\n",
              "        vertical-align: middle;\n",
              "    }\n",
              "\n",
              "    .dataframe tbody tr th {\n",
              "        vertical-align: top;\n",
              "    }\n",
              "\n",
              "    .dataframe thead th {\n",
              "        text-align: right;\n",
              "    }\n",
              "</style>\n",
              "<table border=\"1\" class=\"dataframe\">\n",
              "  <thead>\n",
              "    <tr style=\"text-align: right;\">\n",
              "      <th></th>\n",
              "      <th>Customer Name</th>\n",
              "      <th>Customer e-mail</th>\n",
              "      <th>Country</th>\n",
              "      <th>Gender</th>\n",
              "      <th>Age</th>\n",
              "      <th>Annual Salary</th>\n",
              "      <th>Credit Card Debt</th>\n",
              "      <th>Net Worth</th>\n",
              "      <th>Car Purchase Amount</th>\n",
              "    </tr>\n",
              "  </thead>\n",
              "  <tbody>\n",
              "    <tr>\n",
              "      <th>28</th>\n",
              "      <td>Gemma Hendrix</td>\n",
              "      <td>lobortis@non.co.uk</td>\n",
              "      <td>Denmark</td>\n",
              "      <td>1</td>\n",
              "      <td>46.124036</td>\n",
              "      <td>100000.0</td>\n",
              "      <td>17452.92179</td>\n",
              "      <td>188032.0778</td>\n",
              "      <td>58350.31809</td>\n",
              "    </tr>\n",
              "  </tbody>\n",
              "</table>\n",
              "</div>"
            ],
            "text/plain": [
              "    Customer Name     Customer e-mail  ...    Net Worth  Car Purchase Amount\n",
              "28  Gemma Hendrix  lobortis@non.co.uk  ...  188032.0778          58350.31809\n",
              "\n",
              "[1 rows x 9 columns]"
            ]
          },
          "metadata": {
            "tags": []
          },
          "execution_count": 53
        }
      ]
    },
    {
      "cell_type": "markdown",
      "metadata": {
        "id": "2nz8-inZPJPB"
      },
      "source": [
        "Min Annual salary persom"
      ]
    },
    {
      "cell_type": "code",
      "metadata": {
        "colab": {
          "base_uri": "https://localhost:8080/",
          "height": 78
        },
        "id": "kAGBeLjHO4oa",
        "outputId": "dba97300-e4c3-4f16-cad6-3e4f8a079617"
      },
      "source": [
        "car_df[car_df['Annual Salary'] == 20000.000000]"
      ],
      "execution_count": null,
      "outputs": [
        {
          "output_type": "execute_result",
          "data": {
            "text/html": [
              "<div>\n",
              "<style scoped>\n",
              "    .dataframe tbody tr th:only-of-type {\n",
              "        vertical-align: middle;\n",
              "    }\n",
              "\n",
              "    .dataframe tbody tr th {\n",
              "        vertical-align: top;\n",
              "    }\n",
              "\n",
              "    .dataframe thead th {\n",
              "        text-align: right;\n",
              "    }\n",
              "</style>\n",
              "<table border=\"1\" class=\"dataframe\">\n",
              "  <thead>\n",
              "    <tr style=\"text-align: right;\">\n",
              "      <th></th>\n",
              "      <th>Customer Name</th>\n",
              "      <th>Customer e-mail</th>\n",
              "      <th>Country</th>\n",
              "      <th>Gender</th>\n",
              "      <th>Age</th>\n",
              "      <th>Annual Salary</th>\n",
              "      <th>Credit Card Debt</th>\n",
              "      <th>Net Worth</th>\n",
              "      <th>Car Purchase Amount</th>\n",
              "    </tr>\n",
              "  </thead>\n",
              "  <tbody>\n",
              "    <tr>\n",
              "      <th>89</th>\n",
              "      <td>Ferdinand Weber</td>\n",
              "      <td>metus.Vivamus@vitaeposuere.org</td>\n",
              "      <td>Suriname</td>\n",
              "      <td>1</td>\n",
              "      <td>32.094081</td>\n",
              "      <td>20000.0</td>\n",
              "      <td>14261.80773</td>\n",
              "      <td>579181.6552</td>\n",
              "      <td>12895.71468</td>\n",
              "    </tr>\n",
              "  </tbody>\n",
              "</table>\n",
              "</div>"
            ],
            "text/plain": [
              "      Customer Name  ... Car Purchase Amount\n",
              "89  Ferdinand Weber  ...         12895.71468\n",
              "\n",
              "[1 rows x 9 columns]"
            ]
          },
          "metadata": {
            "tags": []
          },
          "execution_count": 57
        }
      ]
    },
    {
      "cell_type": "code",
      "metadata": {
        "colab": {
          "base_uri": "https://localhost:8080/"
        },
        "id": "WcNm7gjEJwLS",
        "outputId": "5b622255-741a-4bbf-ef6f-109baa10d497"
      },
      "source": [
        "car_df.duplicated().sum()"
      ],
      "execution_count": null,
      "outputs": [
        {
          "output_type": "execute_result",
          "data": {
            "text/plain": [
              "0"
            ]
          },
          "metadata": {
            "tags": []
          },
          "execution_count": 28
        }
      ]
    },
    {
      "cell_type": "code",
      "metadata": {
        "colab": {
          "base_uri": "https://localhost:8080/"
        },
        "id": "wRXTDW0kJwOn",
        "outputId": "785b6376-8da4-4fda-f382-aac26a682128"
      },
      "source": [
        "car_df.isnull().sum()"
      ],
      "execution_count": null,
      "outputs": [
        {
          "output_type": "execute_result",
          "data": {
            "text/plain": [
              "Customer Name          0\n",
              "Customer e-mail        0\n",
              "Country                0\n",
              "Gender                 0\n",
              "Age                    0\n",
              "Annual Salary          0\n",
              "Credit Card Debt       0\n",
              "Net Worth              0\n",
              "Car Purchase Amount    0\n",
              "dtype: int64"
            ]
          },
          "metadata": {
            "tags": []
          },
          "execution_count": 31
        }
      ]
    },
    {
      "cell_type": "code",
      "metadata": {
        "colab": {
          "base_uri": "https://localhost:8080/"
        },
        "id": "JDUr0yBsK1P2",
        "outputId": "f8d333f5-3d94-4a2e-ae0c-401b402a26ad"
      },
      "source": [
        "car_df.Gender.value_counts()"
      ],
      "execution_count": null,
      "outputs": [
        {
          "output_type": "execute_result",
          "data": {
            "text/plain": [
              "1    253\n",
              "0    247\n",
              "Name: Gender, dtype: int64"
            ]
          },
          "metadata": {
            "tags": []
          },
          "execution_count": 32
        }
      ]
    },
    {
      "cell_type": "code",
      "metadata": {
        "colab": {
          "base_uri": "https://localhost:8080/"
        },
        "id": "drjJ_4wJK1Ts",
        "outputId": "2730c7d5-c9ae-4929-c8e1-06767ccfefb9"
      },
      "source": [
        "car_df.columns"
      ],
      "execution_count": null,
      "outputs": [
        {
          "output_type": "execute_result",
          "data": {
            "text/plain": [
              "Index(['Customer Name', 'Customer e-mail', 'Country', 'Gender', 'Age',\n",
              "       'Annual Salary', 'Credit Card Debt', 'Net Worth',\n",
              "       'Car Purchase Amount'],\n",
              "      dtype='object')"
            ]
          },
          "metadata": {
            "tags": []
          },
          "execution_count": 33
        }
      ]
    },
    {
      "cell_type": "code",
      "metadata": {
        "colab": {
          "base_uri": "https://localhost:8080/"
        },
        "id": "uQno2DCDK1Wn",
        "outputId": "2629086f-79a4-4590-9775-33b0c16f5734"
      },
      "source": [
        "car_df.Country.value_counts()"
      ],
      "execution_count": null,
      "outputs": [
        {
          "output_type": "execute_result",
          "data": {
            "text/plain": [
              "Bolivia         6\n",
              "Mauritania      6\n",
              "Israel          6\n",
              "Kyrgyzstan      5\n",
              "Laos            5\n",
              "               ..\n",
              "Mexico          1\n",
              "Honduras        1\n",
              "Saudi Arabia    1\n",
              "Niger           1\n",
              "Sri Lanka       1\n",
              "Name: Country, Length: 211, dtype: int64"
            ]
          },
          "metadata": {
            "tags": []
          },
          "execution_count": 34
        }
      ]
    },
    {
      "cell_type": "code",
      "metadata": {
        "colab": {
          "base_uri": "https://localhost:8080/"
        },
        "id": "Zoy_lattK1Zb",
        "outputId": "5e0b7e7e-9933-48e6-d4da-621c3c91b717"
      },
      "source": [
        "car_df.Gender.unique()"
      ],
      "execution_count": null,
      "outputs": [
        {
          "output_type": "execute_result",
          "data": {
            "text/plain": [
              "array([0, 1])"
            ]
          },
          "metadata": {
            "tags": []
          },
          "execution_count": 35
        }
      ]
    },
    {
      "cell_type": "code",
      "metadata": {
        "colab": {
          "base_uri": "https://localhost:8080/"
        },
        "id": "qkZ0f0oMK1hu",
        "outputId": "7c126520-0143-495c-9983-2f6f319754c9"
      },
      "source": [
        "car_df.Gender.nunique()"
      ],
      "execution_count": null,
      "outputs": [
        {
          "output_type": "execute_result",
          "data": {
            "text/plain": [
              "2"
            ]
          },
          "metadata": {
            "tags": []
          },
          "execution_count": 36
        }
      ]
    },
    {
      "cell_type": "code",
      "metadata": {
        "id": "juYoOluQJwRE"
      },
      "source": [
        "car_df.Country.unique()"
      ],
      "execution_count": null,
      "outputs": []
    },
    {
      "cell_type": "code",
      "metadata": {
        "colab": {
          "base_uri": "https://localhost:8080/"
        },
        "id": "y0JTDn42L3AL",
        "outputId": "2fab94b1-175d-467c-8344-b129567490d5"
      },
      "source": [
        "car_df.Country.nunique()"
      ],
      "execution_count": null,
      "outputs": [
        {
          "output_type": "execute_result",
          "data": {
            "text/plain": [
              "211"
            ]
          },
          "metadata": {
            "tags": []
          },
          "execution_count": 38
        }
      ]
    },
    {
      "cell_type": "markdown",
      "metadata": {
        "id": "QXUVCs36L_0H"
      },
      "source": [
        "211 different Countries"
      ]
    },
    {
      "cell_type": "code",
      "metadata": {
        "colab": {
          "base_uri": "https://localhost:8080/"
        },
        "id": "BSt05T__L3EE",
        "outputId": "4367f9e7-9387-43e9-b090-5cb9d4182a2f"
      },
      "source": [
        "car_df.Age.nunique()"
      ],
      "execution_count": null,
      "outputs": [
        {
          "output_type": "execute_result",
          "data": {
            "text/plain": [
              "500"
            ]
          },
          "metadata": {
            "tags": []
          },
          "execution_count": 39
        }
      ]
    },
    {
      "cell_type": "markdown",
      "metadata": {
        "id": "Q5aItyhLPXp-"
      },
      "source": [
        "Value counts"
      ]
    },
    {
      "cell_type": "code",
      "metadata": {
        "colab": {
          "base_uri": "https://localhost:8080/"
        },
        "id": "OR5tkLt2L3G7",
        "outputId": "dfa5b1ce-81c2-44c8-c98d-4081a0937fe7"
      },
      "source": [
        "for col in list(car_df):\n",
        "  print(col, car_df[col].nunique())"
      ],
      "execution_count": null,
      "outputs": [
        {
          "output_type": "stream",
          "text": [
            "Customer Name 498\n",
            "Customer e-mail 500\n",
            "Country 211\n",
            "Gender 2\n",
            "Age 500\n",
            "Annual Salary 500\n",
            "Credit Card Debt 500\n",
            "Net Worth 500\n",
            "Car Purchase Amount 500\n"
          ],
          "name": "stdout"
        }
      ]
    },
    {
      "cell_type": "code",
      "metadata": {
        "colab": {
          "base_uri": "https://localhost:8080/"
        },
        "id": "u8IY8TjUL3KG",
        "outputId": "515927b6-6763-4f0d-c72c-0be91eb536ba"
      },
      "source": [
        "car_df.isnull().sum()"
      ],
      "execution_count": null,
      "outputs": [
        {
          "output_type": "execute_result",
          "data": {
            "text/plain": [
              "Customer Name          0\n",
              "Customer e-mail        0\n",
              "Country                0\n",
              "Gender                 0\n",
              "Age                    0\n",
              "Annual Salary          0\n",
              "Credit Card Debt       0\n",
              "Net Worth              0\n",
              "Car Purchase Amount    0\n",
              "dtype: int64"
            ]
          },
          "metadata": {
            "tags": []
          },
          "execution_count": 55
        }
      ]
    },
    {
      "cell_type": "markdown",
      "metadata": {
        "id": "33k_1k3aP5-p"
      },
      "source": [
        "Heat Map"
      ]
    },
    {
      "cell_type": "code",
      "metadata": {
        "colab": {
          "base_uri": "https://localhost:8080/",
          "height": 383
        },
        "id": "7NdG4H6mL3ND",
        "outputId": "6958eb35-707c-4dec-de4b-e6f055e6af19"
      },
      "source": [
        "sb.heatmap(car_df.isnull(), yticklabels=False)"
      ],
      "execution_count": null,
      "outputs": [
        {
          "output_type": "execute_result",
          "data": {
            "text/plain": [
              "<matplotlib.axes._subplots.AxesSubplot at 0x7fbaeefe0f50>"
            ]
          },
          "metadata": {
            "tags": []
          },
          "execution_count": 56
        },
        {
          "output_type": "display_data",
          "data": {
            "image/png": "[encoded data removed]",
            "text/plain": [
              "<Figure size 432x288 with 2 Axes>"
            ]
          },
          "metadata": {
            "tags": [],
            "needs_background": "light"
          }
        }
      ]
    },
    {
      "cell_type": "markdown",
      "metadata": {
        "id": "7zEf3xWxQq4h"
      },
      "source": [
        "#Exploratory Data Anaysis"
      ]
    },
    {
      "cell_type": "code",
      "metadata": {
        "id": "P6IFSV54L3P4"
      },
      "source": [
        "plt.style.use('fivethirtyeight')\n",
        "sb.set_theme(context='notebook', style='darkgrid', palette='deep', font='timesnewroman', font_scale=1.2, color_codes=True, rc=None)"
      ],
      "execution_count": null,
      "outputs": []
    },
    {
      "cell_type": "markdown",
      "metadata": {
        "id": "qTRUIDOCRfWP"
      },
      "source": [
        "Histplot"
      ]
    },
    {
      "cell_type": "code",
      "metadata": {
        "colab": {
          "base_uri": "https://localhost:8080/",
          "height": 686
        },
        "id": "L2wbuhXmQOVs",
        "outputId": "645eb5c7-4c72-48cd-e31e-a81095323a0c"
      },
      "source": [
        "car_df.hist(bins=25, figsize=(20,10), color = 'Orange')\n",
        "plt.show()\n",
        "plt.tight_layout()"
      ],
      "execution_count": null,
      "outputs": [
        {
          "output_type": "display_data",
          "data": {
            "image/png": "[encoded data removed]",
            "text/plain": [
              "<Figure size 1440x720 with 6 Axes>"
            ]
          },
          "metadata": {
            "tags": []
          }
        },
        {
          "output_type": "display_data",
          "data": {
            "text/plain": [
              "<Figure size 432x288 with 0 Axes>"
            ]
          },
          "metadata": {
            "tags": []
          }
        }
      ]
    },
    {
      "cell_type": "markdown",
      "metadata": {
        "id": "IZ9zsWZqU8fY"
      },
      "source": [
        "Scatter Plot"
      ]
    },
    {
      "cell_type": "code",
      "metadata": {
        "colab": {
          "base_uri": "https://localhost:8080/"
        },
        "id": "wXb6AgzIVYkn",
        "outputId": "c3363730-038b-466f-edc6-3dea59ad0e14"
      },
      "source": [
        "car_df.columns"
      ],
      "execution_count": null,
      "outputs": [
        {
          "output_type": "execute_result",
          "data": {
            "text/plain": [
              "Index(['Customer Name', 'Customer e-mail', 'Country', 'Gender', 'Age',\n",
              "       'Annual Salary', 'Credit Card Debt', 'Net Worth',\n",
              "       'Car Purchase Amount'],\n",
              "      dtype='object')"
            ]
          },
          "metadata": {
            "tags": []
          },
          "execution_count": 86
        }
      ]
    },
    {
      "cell_type": "code",
      "metadata": {
        "colab": {
          "base_uri": "https://localhost:8080/",
          "height": 537
        },
        "id": "TsI5exDgQOey",
        "outputId": "db64e868-b5ab-4ba2-b37a-27b7e24a9f92"
      },
      "source": [
        "plt.figure(figsize=(8,8))\n",
        "sb.scatterplot(data = car_df, x ='Annual Salary', y = 'Car Purchase Amount', hue='Gender')\n",
        "plt.show()"
      ],
      "execution_count": null,
      "outputs": [
        {
          "output_type": "display_data",
          "data": {
            "image/png": "[encoded data removed]",
            "text/plain": [
              "<Figure size 576x576 with 1 Axes>"
            ]
          },
          "metadata": {
            "tags": []
          }
        }
      ]
    },
    {
      "cell_type": "code",
      "metadata": {
        "colab": {
          "base_uri": "https://localhost:8080/",
          "height": 537
        },
        "id": "7qoNY8aHQOho",
        "outputId": "059a0e0c-b79a-409a-b54d-399764c36713"
      },
      "source": [
        "plt.figure(figsize=(8,8))\n",
        "sb.scatterplot(data = car_df, x ='Annual Salary', y = 'Credit Card Debt', hue='Gender')\n",
        "plt.show()"
      ],
      "execution_count": null,
      "outputs": [
        {
          "output_type": "display_data",
          "data": {
            "image/png": "[encoded data removed]",
            "text/plain": [
              "<Figure size 576x576 with 1 Axes>"
            ]
          },
          "metadata": {
            "tags": []
          }
        }
      ]
    },
    {
      "cell_type": "code",
      "metadata": {
        "colab": {
          "base_uri": "https://localhost:8080/",
          "height": 280
        },
        "id": "z2UMKX3gWsEF",
        "outputId": "90b08cbc-e9e4-4663-8ffa-34826e9f9075"
      },
      "source": [
        "sb.boxplot(data = car_df, y = 'Car Purchase Amount', color= 'Violet')"
      ],
      "execution_count": null,
      "outputs": [
        {
          "output_type": "execute_result",
          "data": {
            "text/plain": [
              "<matplotlib.axes._subplots.AxesSubplot at 0x7fbadf7caad0>"
            ]
          },
          "metadata": {
            "tags": []
          },
          "execution_count": 108
        },
        {
          "output_type": "display_data",
          "data": {
            "image/png": "[encoded data removed]",
            "text/plain": [
              "<Figure size 432x288 with 1 Axes>"
            ]
          },
          "metadata": {
            "tags": []
          }
        }
      ]
    },
    {
      "cell_type": "markdown",
      "metadata": {
        "id": "TYkpYT1jY9sO"
      },
      "source": [
        "Box Plot"
      ]
    },
    {
      "cell_type": "code",
      "metadata": {
        "colab": {
          "base_uri": "https://localhost:8080/",
          "height": 415
        },
        "id": "f5a0ULp1WsH4",
        "outputId": "e6a197b2-e752-4093-db39-8a2e2f521502"
      },
      "source": [
        "plt.figure(figsize=(5,5))\n",
        "sb.countplot(car_df['Gender'])\n",
        "plt.show()"
      ],
      "execution_count": null,
      "outputs": [
        {
          "output_type": "stream",
          "text": [
            "/usr/local/lib/python3.7/dist-packages/seaborn/_decorators.py:43: FutureWarning: Pass the following variable as a keyword arg: x. From version 0.12, the only valid positional argument will be `data`, and passing other arguments without an explicit keyword will result in an error or misinterpretation.\n",
            "  FutureWarning\n"
          ],
          "name": "stderr"
        },
        {
          "output_type": "display_data",
          "data": {
            "image/png": "[encoded data removed]",
            "text/plain": [
              "<Figure size 360x360 with 1 Axes>"
            ]
          },
          "metadata": {
            "tags": []
          }
        }
      ]
    },
    {
      "cell_type": "markdown",
      "metadata": {
        "id": "KK1k9fgQZBre"
      },
      "source": [
        "KDE Plot"
      ]
    },
    {
      "cell_type": "code",
      "metadata": {
        "id": "ngwoYNhhZwGh"
      },
      "source": [
        "male_cus = car_df[car_df['Gender'] == 1]\n",
        "female_cus = car_df[car_df['Gender']== 0]"
      ],
      "execution_count": null,
      "outputs": []
    },
    {
      "cell_type": "code",
      "metadata": {
        "colab": {
          "base_uri": "https://localhost:8080/",
          "height": 408
        },
        "id": "_uO6aAe_Zx95",
        "outputId": "c5dc532d-8073-44b0-a697-9ad9eea70932"
      },
      "source": [
        "male_cus"
      ],
      "execution_count": null,
      "outputs": [
        {
          "output_type": "execute_result",
          "data": {
            "text/html": [
              "<div>\n",
              "<style scoped>\n",
              "    .dataframe tbody tr th:only-of-type {\n",
              "        vertical-align: middle;\n",
              "    }\n",
              "\n",
              "    .dataframe tbody tr th {\n",
              "        vertical-align: top;\n",
              "    }\n",
              "\n",
              "    .dataframe thead th {\n",
              "        text-align: right;\n",
              "    }\n",
              "</style>\n",
              "<table border=\"1\" class=\"dataframe\">\n",
              "  <thead>\n",
              "    <tr style=\"text-align: right;\">\n",
              "      <th></th>\n",
              "      <th>Customer Name</th>\n",
              "      <th>Customer e-mail</th>\n",
              "      <th>Country</th>\n",
              "      <th>Gender</th>\n",
              "      <th>Age</th>\n",
              "      <th>Annual Salary</th>\n",
              "      <th>Credit Card Debt</th>\n",
              "      <th>Net Worth</th>\n",
              "      <th>Car Purchase Amount</th>\n",
              "    </tr>\n",
              "  </thead>\n",
              "  <tbody>\n",
              "    <tr>\n",
              "      <th>2</th>\n",
              "      <td>Naomi Rodriquez</td>\n",
              "      <td>vulputate.mauris.sagittis@ametconsectetueradip...</td>\n",
              "      <td>Algeria</td>\n",
              "      <td>1</td>\n",
              "      <td>43.152897</td>\n",
              "      <td>53798.55112</td>\n",
              "      <td>11160.355060</td>\n",
              "      <td>638467.1773</td>\n",
              "      <td>42925.70921</td>\n",
              "    </tr>\n",
              "    <tr>\n",
              "      <th>3</th>\n",
              "      <td>Jade Cunningham</td>\n",
              "      <td>malesuada@dignissim.com</td>\n",
              "      <td>Cook Islands</td>\n",
              "      <td>1</td>\n",
              "      <td>58.271369</td>\n",
              "      <td>79370.03798</td>\n",
              "      <td>14426.164850</td>\n",
              "      <td>548599.0524</td>\n",
              "      <td>67422.36313</td>\n",
              "    </tr>\n",
              "    <tr>\n",
              "      <th>4</th>\n",
              "      <td>Cedric Leach</td>\n",
              "      <td>felis.ullamcorper.viverra@egetmollislectus.net</td>\n",
              "      <td>Brazil</td>\n",
              "      <td>1</td>\n",
              "      <td>57.313749</td>\n",
              "      <td>59729.15130</td>\n",
              "      <td>5358.712177</td>\n",
              "      <td>560304.0671</td>\n",
              "      <td>55915.46248</td>\n",
              "    </tr>\n",
              "    <tr>\n",
              "      <th>5</th>\n",
              "      <td>Carla Hester</td>\n",
              "      <td>mi@Aliquamerat.edu</td>\n",
              "      <td>Liberia</td>\n",
              "      <td>1</td>\n",
              "      <td>56.824893</td>\n",
              "      <td>68499.85162</td>\n",
              "      <td>14179.472440</td>\n",
              "      <td>428485.3604</td>\n",
              "      <td>56611.99784</td>\n",
              "    </tr>\n",
              "    <tr>\n",
              "      <th>6</th>\n",
              "      <td>Griffin Rivera</td>\n",
              "      <td>vehicula@at.co.uk</td>\n",
              "      <td>Syria</td>\n",
              "      <td>1</td>\n",
              "      <td>46.607315</td>\n",
              "      <td>39814.52200</td>\n",
              "      <td>5958.460188</td>\n",
              "      <td>326373.1812</td>\n",
              "      <td>28925.70549</td>\n",
              "    </tr>\n",
              "    <tr>\n",
              "      <th>...</th>\n",
              "      <td>...</td>\n",
              "      <td>...</td>\n",
              "      <td>...</td>\n",
              "      <td>...</td>\n",
              "      <td>...</td>\n",
              "      <td>...</td>\n",
              "      <td>...</td>\n",
              "      <td>...</td>\n",
              "      <td>...</td>\n",
              "    </tr>\n",
              "    <tr>\n",
              "      <th>491</th>\n",
              "      <td>Merrill</td>\n",
              "      <td>dolor.sit@turpisIn.com</td>\n",
              "      <td>Egypt</td>\n",
              "      <td>1</td>\n",
              "      <td>50.197205</td>\n",
              "      <td>78518.21527</td>\n",
              "      <td>10072.482980</td>\n",
              "      <td>294506.0844</td>\n",
              "      <td>52785.16947</td>\n",
              "    </tr>\n",
              "    <tr>\n",
              "      <th>496</th>\n",
              "      <td>Vanna</td>\n",
              "      <td>Cum.sociis.natoque@Sedmolestie.edu</td>\n",
              "      <td>Zimbabwe</td>\n",
              "      <td>1</td>\n",
              "      <td>37.642000</td>\n",
              "      <td>56039.49793</td>\n",
              "      <td>12301.456790</td>\n",
              "      <td>360419.0988</td>\n",
              "      <td>31491.41457</td>\n",
              "    </tr>\n",
              "    <tr>\n",
              "      <th>497</th>\n",
              "      <td>Pearl</td>\n",
              "      <td>penatibus.et@massanonante.com</td>\n",
              "      <td>Philippines</td>\n",
              "      <td>1</td>\n",
              "      <td>53.943497</td>\n",
              "      <td>68888.77805</td>\n",
              "      <td>10611.606860</td>\n",
              "      <td>764531.3203</td>\n",
              "      <td>64147.28888</td>\n",
              "    </tr>\n",
              "    <tr>\n",
              "      <th>498</th>\n",
              "      <td>Nell</td>\n",
              "      <td>Quisque.varius@arcuVivamussit.net</td>\n",
              "      <td>Botswana</td>\n",
              "      <td>1</td>\n",
              "      <td>59.160509</td>\n",
              "      <td>49811.99062</td>\n",
              "      <td>14013.034510</td>\n",
              "      <td>337826.6382</td>\n",
              "      <td>45442.15353</td>\n",
              "    </tr>\n",
              "    <tr>\n",
              "      <th>499</th>\n",
              "      <td>Marla</td>\n",
              "      <td>Camaron.marla@hotmail.com</td>\n",
              "      <td>marlal</td>\n",
              "      <td>1</td>\n",
              "      <td>46.731152</td>\n",
              "      <td>61370.67766</td>\n",
              "      <td>9391.341628</td>\n",
              "      <td>462946.4924</td>\n",
              "      <td>45107.22566</td>\n",
              "    </tr>\n",
              "  </tbody>\n",
              "</table>\n",
              "<p>253 rows × 9 columns</p>\n",
              "</div>"
            ],
            "text/plain": [
              "       Customer Name  ... Car Purchase Amount\n",
              "2    Naomi Rodriquez  ...         42925.70921\n",
              "3    Jade Cunningham  ...         67422.36313\n",
              "4       Cedric Leach  ...         55915.46248\n",
              "5       Carla Hester  ...         56611.99784\n",
              "6     Griffin Rivera  ...         28925.70549\n",
              "..               ...  ...                 ...\n",
              "491          Merrill  ...         52785.16947\n",
              "496            Vanna  ...         31491.41457\n",
              "497            Pearl  ...         64147.28888\n",
              "498             Nell  ...         45442.15353\n",
              "499            Marla  ...         45107.22566\n",
              "\n",
              "[253 rows x 9 columns]"
            ]
          },
          "metadata": {
            "tags": []
          },
          "execution_count": 117
        }
      ]
    },
    {
      "cell_type": "code",
      "metadata": {
        "colab": {
          "base_uri": "https://localhost:8080/",
          "height": 408
        },
        "id": "7sgjVQVBZyBu",
        "outputId": "ce5c76a4-837d-47d5-8e7c-f325245a935d"
      },
      "source": [
        "female_cus"
      ],
      "execution_count": null,
      "outputs": [
        {
          "output_type": "execute_result",
          "data": {
            "text/html": [
              "<div>\n",
              "<style scoped>\n",
              "    .dataframe tbody tr th:only-of-type {\n",
              "        vertical-align: middle;\n",
              "    }\n",
              "\n",
              "    .dataframe tbody tr th {\n",
              "        vertical-align: top;\n",
              "    }\n",
              "\n",
              "    .dataframe thead th {\n",
              "        text-align: right;\n",
              "    }\n",
              "</style>\n",
              "<table border=\"1\" class=\"dataframe\">\n",
              "  <thead>\n",
              "    <tr style=\"text-align: right;\">\n",
              "      <th></th>\n",
              "      <th>Customer Name</th>\n",
              "      <th>Customer e-mail</th>\n",
              "      <th>Country</th>\n",
              "      <th>Gender</th>\n",
              "      <th>Age</th>\n",
              "      <th>Annual Salary</th>\n",
              "      <th>Credit Card Debt</th>\n",
              "      <th>Net Worth</th>\n",
              "      <th>Car Purchase Amount</th>\n",
              "    </tr>\n",
              "  </thead>\n",
              "  <tbody>\n",
              "    <tr>\n",
              "      <th>0</th>\n",
              "      <td>Martina Avila</td>\n",
              "      <td>cubilia.Curae.Phasellus@quisaccumsanconvallis.edu</td>\n",
              "      <td>Bulgaria</td>\n",
              "      <td>0</td>\n",
              "      <td>41.851720</td>\n",
              "      <td>62812.09301</td>\n",
              "      <td>11609.380910</td>\n",
              "      <td>238961.2505</td>\n",
              "      <td>35321.45877</td>\n",
              "    </tr>\n",
              "    <tr>\n",
              "      <th>1</th>\n",
              "      <td>Harlan Barnes</td>\n",
              "      <td>eu.dolor@diam.co.uk</td>\n",
              "      <td>Belize</td>\n",
              "      <td>0</td>\n",
              "      <td>40.870623</td>\n",
              "      <td>66646.89292</td>\n",
              "      <td>9572.957136</td>\n",
              "      <td>530973.9078</td>\n",
              "      <td>45115.52566</td>\n",
              "    </tr>\n",
              "    <tr>\n",
              "      <th>8</th>\n",
              "      <td>Marny Obrien</td>\n",
              "      <td>Phasellus@sedsemegestas.org</td>\n",
              "      <td>Armenia</td>\n",
              "      <td>0</td>\n",
              "      <td>46.584745</td>\n",
              "      <td>58139.25910</td>\n",
              "      <td>3440.823799</td>\n",
              "      <td>630059.0274</td>\n",
              "      <td>48013.61410</td>\n",
              "    </tr>\n",
              "    <tr>\n",
              "      <th>12</th>\n",
              "      <td>Quin Smith</td>\n",
              "      <td>nulla@ipsum.edu</td>\n",
              "      <td>Nicaragua</td>\n",
              "      <td>0</td>\n",
              "      <td>44.396494</td>\n",
              "      <td>37336.33830</td>\n",
              "      <td>10218.320920</td>\n",
              "      <td>430907.1673</td>\n",
              "      <td>28700.03340</td>\n",
              "    </tr>\n",
              "    <tr>\n",
              "      <th>13</th>\n",
              "      <td>Tatum Moon</td>\n",
              "      <td>Cras.sed.leo@Seddiamlorem.ca</td>\n",
              "      <td>Palestine, State of</td>\n",
              "      <td>0</td>\n",
              "      <td>48.496515</td>\n",
              "      <td>68304.47298</td>\n",
              "      <td>9466.995128</td>\n",
              "      <td>420322.0702</td>\n",
              "      <td>49258.87571</td>\n",
              "    </tr>\n",
              "    <tr>\n",
              "      <th>...</th>\n",
              "      <td>...</td>\n",
              "      <td>...</td>\n",
              "      <td>...</td>\n",
              "      <td>...</td>\n",
              "      <td>...</td>\n",
              "      <td>...</td>\n",
              "      <td>...</td>\n",
              "      <td>...</td>\n",
              "      <td>...</td>\n",
              "    </tr>\n",
              "    <tr>\n",
              "      <th>489</th>\n",
              "      <td>Gloria</td>\n",
              "      <td>Curabitur.egestas.nunc@fermentumfermentum.ca</td>\n",
              "      <td>Gambia</td>\n",
              "      <td>0</td>\n",
              "      <td>54.879545</td>\n",
              "      <td>64430.07398</td>\n",
              "      <td>6924.106833</td>\n",
              "      <td>664862.0102</td>\n",
              "      <td>59538.40327</td>\n",
              "    </tr>\n",
              "    <tr>\n",
              "      <th>492</th>\n",
              "      <td>Nolan</td>\n",
              "      <td>Donec.at@neccursus.co.uk</td>\n",
              "      <td>Latvia</td>\n",
              "      <td>0</td>\n",
              "      <td>55.087720</td>\n",
              "      <td>72424.80112</td>\n",
              "      <td>9831.184792</td>\n",
              "      <td>523680.7699</td>\n",
              "      <td>60117.67886</td>\n",
              "    </tr>\n",
              "    <tr>\n",
              "      <th>493</th>\n",
              "      <td>Winter</td>\n",
              "      <td>egestas.urna.justo@maurissagittis.edu</td>\n",
              "      <td>Wallis and Futuna</td>\n",
              "      <td>0</td>\n",
              "      <td>42.900187</td>\n",
              "      <td>77665.17195</td>\n",
              "      <td>13308.879320</td>\n",
              "      <td>349588.5608</td>\n",
              "      <td>47760.66427</td>\n",
              "    </tr>\n",
              "    <tr>\n",
              "      <th>494</th>\n",
              "      <td>Rigel</td>\n",
              "      <td>egestas.blandit.Nam@semvitaealiquam.com</td>\n",
              "      <td>Sao Tome and Principe</td>\n",
              "      <td>0</td>\n",
              "      <td>51.767418</td>\n",
              "      <td>77345.61633</td>\n",
              "      <td>6736.751680</td>\n",
              "      <td>665099.1390</td>\n",
              "      <td>64188.26862</td>\n",
              "    </tr>\n",
              "    <tr>\n",
              "      <th>495</th>\n",
              "      <td>Walter</td>\n",
              "      <td>ligula@Cumsociis.ca</td>\n",
              "      <td>Nepal</td>\n",
              "      <td>0</td>\n",
              "      <td>41.462515</td>\n",
              "      <td>71942.40291</td>\n",
              "      <td>6995.902524</td>\n",
              "      <td>541670.1016</td>\n",
              "      <td>48901.44342</td>\n",
              "    </tr>\n",
              "  </tbody>\n",
              "</table>\n",
              "<p>247 rows × 9 columns</p>\n",
              "</div>"
            ],
            "text/plain": [
              "     Customer Name  ... Car Purchase Amount\n",
              "0    Martina Avila  ...         35321.45877\n",
              "1    Harlan Barnes  ...         45115.52566\n",
              "8     Marny Obrien  ...         48013.61410\n",
              "12      Quin Smith  ...         28700.03340\n",
              "13      Tatum Moon  ...         49258.87571\n",
              "..             ...  ...                 ...\n",
              "489         Gloria  ...         59538.40327\n",
              "492          Nolan  ...         60117.67886\n",
              "493         Winter  ...         47760.66427\n",
              "494          Rigel  ...         64188.26862\n",
              "495         Walter  ...         48901.44342\n",
              "\n",
              "[247 rows x 9 columns]"
            ]
          },
          "metadata": {
            "tags": []
          },
          "execution_count": 118
        }
      ]
    },
    {
      "cell_type": "code",
      "metadata": {
        "colab": {
          "base_uri": "https://localhost:8080/",
          "height": 393
        },
        "id": "yVePhQCYWsNA",
        "outputId": "d8936f22-9aef-4c2f-e5a0-d41781849e18"
      },
      "source": [
        "plt.figure(figsize=(10,5))\n",
        "sb.kdeplot(male_cus['Annual Salary'], label = 'Male Cus', color='green', shade=True)\n",
        "sb.kdeplot(female_cus['Annual Salary'], label = 'Female Cus', color='red', shade=True)\n",
        "plt.ylabel('Density',fontdict={'size':'15'}, color = 'blue')\n",
        "plt.xlabel('Annual Salary', fontdict={'size':'15',}, color = 'blue')\n",
        "plt.legend()"
      ],
      "execution_count": null,
      "outputs": [
        {
          "output_type": "execute_result",
          "data": {
            "text/plain": [
              "<matplotlib.legend.Legend at 0x7fbadf557e10>"
            ]
          },
          "metadata": {
            "tags": []
          },
          "execution_count": 122
        },
        {
          "output_type": "display_data",
          "data": {
            "image/png": "[encoded data removed]",
            "text/plain": [
              "<Figure size 720x360 with 1 Axes>"
            ]
          },
          "metadata": {
            "tags": []
          }
        }
      ]
    },
    {
      "cell_type": "code",
      "metadata": {
        "colab": {
          "base_uri": "https://localhost:8080/",
          "height": 622
        },
        "id": "VhrrlYe3WsT-",
        "outputId": "0456346d-3ff1-4762-c5c7-1e64f19e82f7"
      },
      "source": [
        "plt.figure(figsize=(10,8))\n",
        "sb.distplot(car_df['Age'],bins=20,color= 'blue', hist=False,rug=True, )\n",
        "plt.show()"
      ],
      "execution_count": null,
      "outputs": [
        {
          "output_type": "stream",
          "text": [
            "/usr/local/lib/python3.7/dist-packages/seaborn/distributions.py:2557: FutureWarning: `distplot` is a deprecated function and will be removed in a future version. Please adapt your code to use either `displot` (a figure-level function with similar flexibility) or `kdeplot` (an axes-level function for kernel density plots).\n",
            "  warnings.warn(msg, FutureWarning)\n",
            "/usr/local/lib/python3.7/dist-packages/seaborn/distributions.py:2056: FutureWarning: The `axis` variable is no longer used and will be removed. Instead, assign variables directly to `x` or `y`.\n",
            "  warnings.warn(msg, FutureWarning)\n"
          ],
          "name": "stderr"
        },
        {
          "output_type": "display_data",
          "data": {
            "image/png": "[encoded data removed]",
            "text/plain": [
              "<Figure size 720x576 with 1 Axes>"
            ]
          },
          "metadata": {
            "tags": []
          }
        }
      ]
    },
    {
      "cell_type": "code",
      "metadata": {
        "colab": {
          "base_uri": "https://localhost:8080/",
          "height": 622
        },
        "id": "Q9sheWVsbEMu",
        "outputId": "9c121f82-08ee-4b47-f6dd-de7281465259"
      },
      "source": [
        "plt.figure(figsize=(10,8))\n",
        "sb.distplot(car_df['Age'],bins=20,color= 'blue', hist=True,rug=True)\n",
        "plt.show()"
      ],
      "execution_count": null,
      "outputs": [
        {
          "output_type": "stream",
          "text": [
            "/usr/local/lib/python3.7/dist-packages/seaborn/distributions.py:2557: FutureWarning: `distplot` is a deprecated function and will be removed in a future version. Please adapt your code to use either `displot` (a figure-level function with similar flexibility) or `histplot` (an axes-level function for histograms).\n",
            "  warnings.warn(msg, FutureWarning)\n",
            "/usr/local/lib/python3.7/dist-packages/seaborn/distributions.py:2056: FutureWarning: The `axis` variable is no longer used and will be removed. Instead, assign variables directly to `x` or `y`.\n",
            "  warnings.warn(msg, FutureWarning)\n"
          ],
          "name": "stderr"
        },
        {
          "output_type": "display_data",
          "data": {
            "image/png": "[encoded data removed]",
            "text/plain": [
              "<Figure size 720x576 with 1 Axes>"
            ]
          },
          "metadata": {
            "tags": []
          }
        }
      ]
    },
    {
      "cell_type": "code",
      "metadata": {
        "colab": {
          "base_uri": "https://localhost:8080/",
          "height": 376
        },
        "id": "vnxYPliZbWTT",
        "outputId": "adf6bf32-6985-4a6c-eff7-913211231ca3"
      },
      "source": [
        "plt.figure(figsize=(10,5))\n",
        "sb.boxplot(data = car_df, x = 'Gender', y = 'Net Worth')\n",
        "plt.show()"
      ],
      "execution_count": null,
      "outputs": [
        {
          "output_type": "display_data",
          "data": {
            "image/png": "[encoded data removed]",
            "text/plain": [
              "<Figure size 720x360 with 1 Axes>"
            ]
          },
          "metadata": {
            "tags": []
          }
        }
      ]
    },
    {
      "cell_type": "markdown",
      "metadata": {
        "id": "jNT0owtYdNKc"
      },
      "source": [
        "#Heat Map"
      ]
    },
    {
      "cell_type": "code",
      "metadata": {
        "colab": {
          "base_uri": "https://localhost:8080/",
          "height": 230
        },
        "id": "tytTuonBdJZ4",
        "outputId": "1a3cfcb9-3962-4bd5-9601-bbb74eb33b02"
      },
      "source": [
        "car_df.corr()"
      ],
      "execution_count": null,
      "outputs": [
        {
          "output_type": "execute_result",
          "data": {
            "text/html": [
              "<div>\n",
              "<style scoped>\n",
              "    .dataframe tbody tr th:only-of-type {\n",
              "        vertical-align: middle;\n",
              "    }\n",
              "\n",
              "    .dataframe tbody tr th {\n",
              "        vertical-align: top;\n",
              "    }\n",
              "\n",
              "    .dataframe thead th {\n",
              "        text-align: right;\n",
              "    }\n",
              "</style>\n",
              "<table border=\"1\" class=\"dataframe\">\n",
              "  <thead>\n",
              "    <tr style=\"text-align: right;\">\n",
              "      <th></th>\n",
              "      <th>Gender</th>\n",
              "      <th>Age</th>\n",
              "      <th>Annual Salary</th>\n",
              "      <th>Credit Card Debt</th>\n",
              "      <th>Net Worth</th>\n",
              "      <th>Car Purchase Amount</th>\n",
              "    </tr>\n",
              "  </thead>\n",
              "  <tbody>\n",
              "    <tr>\n",
              "      <th>Gender</th>\n",
              "      <td>1.000000</td>\n",
              "      <td>-0.064481</td>\n",
              "      <td>-0.036499</td>\n",
              "      <td>0.024193</td>\n",
              "      <td>-0.008395</td>\n",
              "      <td>-0.066408</td>\n",
              "    </tr>\n",
              "    <tr>\n",
              "      <th>Age</th>\n",
              "      <td>-0.064481</td>\n",
              "      <td>1.000000</td>\n",
              "      <td>0.000130</td>\n",
              "      <td>0.034721</td>\n",
              "      <td>0.020356</td>\n",
              "      <td>0.632865</td>\n",
              "    </tr>\n",
              "    <tr>\n",
              "      <th>Annual Salary</th>\n",
              "      <td>-0.036499</td>\n",
              "      <td>0.000130</td>\n",
              "      <td>1.000000</td>\n",
              "      <td>0.049599</td>\n",
              "      <td>0.014767</td>\n",
              "      <td>0.617862</td>\n",
              "    </tr>\n",
              "    <tr>\n",
              "      <th>Credit Card Debt</th>\n",
              "      <td>0.024193</td>\n",
              "      <td>0.034721</td>\n",
              "      <td>0.049599</td>\n",
              "      <td>1.000000</td>\n",
              "      <td>-0.049378</td>\n",
              "      <td>0.028882</td>\n",
              "    </tr>\n",
              "    <tr>\n",
              "      <th>Net Worth</th>\n",
              "      <td>-0.008395</td>\n",
              "      <td>0.020356</td>\n",
              "      <td>0.014767</td>\n",
              "      <td>-0.049378</td>\n",
              "      <td>1.000000</td>\n",
              "      <td>0.488580</td>\n",
              "    </tr>\n",
              "    <tr>\n",
              "      <th>Car Purchase Amount</th>\n",
              "      <td>-0.066408</td>\n",
              "      <td>0.632865</td>\n",
              "      <td>0.617862</td>\n",
              "      <td>0.028882</td>\n",
              "      <td>0.488580</td>\n",
              "      <td>1.000000</td>\n",
              "    </tr>\n",
              "  </tbody>\n",
              "</table>\n",
              "</div>"
            ],
            "text/plain": [
              "                       Gender       Age  ...  Net Worth  Car Purchase Amount\n",
              "Gender               1.000000 -0.064481  ...  -0.008395            -0.066408\n",
              "Age                 -0.064481  1.000000  ...   0.020356             0.632865\n",
              "Annual Salary       -0.036499  0.000130  ...   0.014767             0.617862\n",
              "Credit Card Debt     0.024193  0.034721  ...  -0.049378             0.028882\n",
              "Net Worth           -0.008395  0.020356  ...   1.000000             0.488580\n",
              "Car Purchase Amount -0.066408  0.632865  ...   0.488580             1.000000\n",
              "\n",
              "[6 rows x 6 columns]"
            ]
          },
          "metadata": {
            "tags": []
          },
          "execution_count": 136
        }
      ]
    },
    {
      "cell_type": "code",
      "metadata": {
        "colab": {
          "base_uri": "https://localhost:8080/",
          "height": 656
        },
        "id": "BP6NAotFbWNF",
        "outputId": "2b22e121-eaf0-4a4b-a7b8-84b34ed2af1a"
      },
      "source": [
        "plt.figure(figsize=(10,8))\n",
        "sb.heatmap(car_df.corr(), cmap='Blues', annot=True)\n",
        "plt.show()"
      ],
      "execution_count": null,
      "outputs": [
        {
          "output_type": "display_data",
          "data": {
            "image/png": "[encoded data removed]",
            "text/plain": [
              "<Figure size 720x576 with 2 Axes>"
            ]
          },
          "metadata": {
            "tags": []
          }
        }
      ]
    },
    {
      "cell_type": "markdown",
      "metadata": {
        "id": "T8N6X_JBdom4"
      },
      "source": [
        "#Data Cleaning "
      ]
    },
    {
      "cell_type": "code",
      "metadata": {
        "id": "fdXYHxgfbWK4"
      },
      "source": [
        "x= car_df.drop(['Customer Name', 'Customer e-mail', 'Country', 'Car Purchase Amount'], axis=1)"
      ],
      "execution_count": null,
      "outputs": []
    },
    {
      "cell_type": "code",
      "metadata": {
        "colab": {
          "base_uri": "https://localhost:8080/",
          "height": 200
        },
        "id": "tOmSKlrKbWI2",
        "outputId": "fb1bc114-798a-484e-c9fc-d8928ea30217"
      },
      "source": [
        "x.head()"
      ],
      "execution_count": null,
      "outputs": [
        {
          "output_type": "execute_result",
          "data": {
            "text/html": [
              "<div>\n",
              "<style scoped>\n",
              "    .dataframe tbody tr th:only-of-type {\n",
              "        vertical-align: middle;\n",
              "    }\n",
              "\n",
              "    .dataframe tbody tr th {\n",
              "        vertical-align: top;\n",
              "    }\n",
              "\n",
              "    .dataframe thead th {\n",
              "        text-align: right;\n",
              "    }\n",
              "</style>\n",
              "<table border=\"1\" class=\"dataframe\">\n",
              "  <thead>\n",
              "    <tr style=\"text-align: right;\">\n",
              "      <th></th>\n",
              "      <th>Gender</th>\n",
              "      <th>Age</th>\n",
              "      <th>Annual Salary</th>\n",
              "      <th>Credit Card Debt</th>\n",
              "      <th>Net Worth</th>\n",
              "    </tr>\n",
              "  </thead>\n",
              "  <tbody>\n",
              "    <tr>\n",
              "      <th>0</th>\n",
              "      <td>0</td>\n",
              "      <td>41.851720</td>\n",
              "      <td>62812.09301</td>\n",
              "      <td>11609.380910</td>\n",
              "      <td>238961.2505</td>\n",
              "    </tr>\n",
              "    <tr>\n",
              "      <th>1</th>\n",
              "      <td>0</td>\n",
              "      <td>40.870623</td>\n",
              "      <td>66646.89292</td>\n",
              "      <td>9572.957136</td>\n",
              "      <td>530973.9078</td>\n",
              "    </tr>\n",
              "    <tr>\n",
              "      <th>2</th>\n",
              "      <td>1</td>\n",
              "      <td>43.152897</td>\n",
              "      <td>53798.55112</td>\n",
              "      <td>11160.355060</td>\n",
              "      <td>638467.1773</td>\n",
              "    </tr>\n",
              "    <tr>\n",
              "      <th>3</th>\n",
              "      <td>1</td>\n",
              "      <td>58.271369</td>\n",
              "      <td>79370.03798</td>\n",
              "      <td>14426.164850</td>\n",
              "      <td>548599.0524</td>\n",
              "    </tr>\n",
              "    <tr>\n",
              "      <th>4</th>\n",
              "      <td>1</td>\n",
              "      <td>57.313749</td>\n",
              "      <td>59729.15130</td>\n",
              "      <td>5358.712177</td>\n",
              "      <td>560304.0671</td>\n",
              "    </tr>\n",
              "  </tbody>\n",
              "</table>\n",
              "</div>"
            ],
            "text/plain": [
              "   Gender        Age  Annual Salary  Credit Card Debt    Net Worth\n",
              "0       0  41.851720    62812.09301      11609.380910  238961.2505\n",
              "1       0  40.870623    66646.89292       9572.957136  530973.9078\n",
              "2       1  43.152897    53798.55112      11160.355060  638467.1773\n",
              "3       1  58.271369    79370.03798      14426.164850  548599.0524\n",
              "4       1  57.313749    59729.15130       5358.712177  560304.0671"
            ]
          },
          "metadata": {
            "tags": []
          },
          "execution_count": 141
        }
      ]
    },
    {
      "cell_type": "code",
      "metadata": {
        "id": "xLundDiXbWG5"
      },
      "source": [
        "y = car_df['Car Purchase Amount']"
      ],
      "execution_count": null,
      "outputs": []
    },
    {
      "cell_type": "code",
      "metadata": {
        "colab": {
          "base_uri": "https://localhost:8080/"
        },
        "id": "vBGkTOATbWEu",
        "outputId": "93b4d533-3c75-4bdf-a3bb-fe52701b1b0d"
      },
      "source": [
        "y.head()"
      ],
      "execution_count": null,
      "outputs": [
        {
          "output_type": "execute_result",
          "data": {
            "text/plain": [
              "0    35321.45877\n",
              "1    45115.52566\n",
              "2    42925.70921\n",
              "3    67422.36313\n",
              "4    55915.46248\n",
              "Name: Car Purchase Amount, dtype: float64"
            ]
          },
          "metadata": {
            "tags": []
          },
          "execution_count": 144
        }
      ]
    },
    {
      "cell_type": "markdown",
      "metadata": {
        "id": "KweSWqVieDOZ"
      },
      "source": [
        "Feature Importance"
      ]
    },
    {
      "cell_type": "code",
      "metadata": {
        "colab": {
          "base_uri": "https://localhost:8080/"
        },
        "id": "JAWd6xJgbVIx",
        "outputId": "3b34548c-0f39-467f-d6c6-f528294a2356"
      },
      "source": [
        "from sklearn.ensemble import ExtraTreesRegressor\n",
        "fet_imp = ExtraTreesRegressor()\n",
        "fet_imp.fit(x,y)"
      ],
      "execution_count": null,
      "outputs": [
        {
          "output_type": "execute_result",
          "data": {
            "text/plain": [
              "ExtraTreesRegressor(bootstrap=False, ccp_alpha=0.0, criterion='mse',\n",
              "                    max_depth=None, max_features='auto', max_leaf_nodes=None,\n",
              "                    max_samples=None, min_impurity_decrease=0.0,\n",
              "                    min_impurity_split=None, min_samples_leaf=1,\n",
              "                    min_samples_split=2, min_weight_fraction_leaf=0.0,\n",
              "                    n_estimators=100, n_jobs=None, oob_score=False,\n",
              "                    random_state=None, verbose=0, warm_start=False)"
            ]
          },
          "metadata": {
            "tags": []
          },
          "execution_count": 145
        }
      ]
    },
    {
      "cell_type": "code",
      "metadata": {
        "colab": {
          "base_uri": "https://localhost:8080/"
        },
        "id": "-IGrxO7zd_9q",
        "outputId": "6598d429-cfad-4415-d808-0ba0c524080e"
      },
      "source": [
        "fet_imp.feature_importances_"
      ],
      "execution_count": null,
      "outputs": [
        {
          "output_type": "execute_result",
          "data": {
            "text/plain": [
              "array([0.00744071, 0.38986277, 0.36601957, 0.01150792, 0.22516903])"
            ]
          },
          "metadata": {
            "tags": []
          },
          "execution_count": 146
        }
      ]
    },
    {
      "cell_type": "code",
      "metadata": {
        "colab": {
          "base_uri": "https://localhost:8080/",
          "height": 287
        },
        "id": "Ev1_FTXKeAAK",
        "outputId": "466913dd-c3ab-4cce-8da4-6ba1588b261e"
      },
      "source": [
        "fet_imp_bar = pd.Series(fet_imp.feature_importances_)\n",
        "fet_imp_bar.nlargest(10).plot(kind='barh', color = 'Violet')\n",
        "plt.show()"
      ],
      "execution_count": null,
      "outputs": [
        {
          "output_type": "display_data",
          "data": {
            "image/png": "[encoded data removed]",
            "text/plain": [
              "<Figure size 432x288 with 1 Axes>"
            ]
          },
          "metadata": {
            "tags": []
          }
        }
      ]
    },
    {
      "cell_type": "markdown",
      "metadata": {
        "id": "B7GBsVS0fCX4"
      },
      "source": [
        "Feature Scalling"
      ]
    },
    {
      "cell_type": "code",
      "metadata": {
        "id": "0wtumI08eACt"
      },
      "source": [
        "from sklearn.preprocessing import MinMaxScaler\n",
        "scaler = MinMaxScaler()\n",
        "x_scaled = scaler.fit_transform(x)"
      ],
      "execution_count": null,
      "outputs": []
    },
    {
      "cell_type": "code",
      "metadata": {
        "id": "9x24E-X_eAFJ"
      },
      "source": [
        "y = y.values.reshape(-1,1)"
      ],
      "execution_count": null,
      "outputs": []
    },
    {
      "cell_type": "code",
      "metadata": {
        "id": "ZfrWSDzfeAHP"
      },
      "source": [
        "y_scaled = scaler.fit_transform(y)"
      ],
      "execution_count": null,
      "outputs": []
    },
    {
      "cell_type": "code",
      "metadata": {
        "id": "JXhutPmneAJl"
      },
      "source": [
        "y_scaled"
      ],
      "execution_count": null,
      "outputs": []
    },
    {
      "cell_type": "code",
      "metadata": {
        "colab": {
          "base_uri": "https://localhost:8080/"
        },
        "id": "SrYwkK5WeAMz",
        "outputId": "59cbcf9e-a245-44da-9f58-a589c0d318b9"
      },
      "source": [
        "x_scaled.shape"
      ],
      "execution_count": null,
      "outputs": [
        {
          "output_type": "execute_result",
          "data": {
            "text/plain": [
              "(500, 5)"
            ]
          },
          "metadata": {
            "tags": []
          },
          "execution_count": 160
        }
      ]
    },
    {
      "cell_type": "code",
      "metadata": {
        "colab": {
          "base_uri": "https://localhost:8080/"
        },
        "id": "2b3Raaj2gFq9",
        "outputId": "6e7d0f6b-d2a5-4318-cb68-61516898b642"
      },
      "source": [
        "y_scaled.shape"
      ],
      "execution_count": null,
      "outputs": [
        {
          "output_type": "execute_result",
          "data": {
            "text/plain": [
              "(500, 1)"
            ]
          },
          "metadata": {
            "tags": []
          },
          "execution_count": 161
        }
      ]
    },
    {
      "cell_type": "markdown",
      "metadata": {
        "id": "yYE7q2s8gKy2"
      },
      "source": [
        "Splitting DataSet"
      ]
    },
    {
      "cell_type": "code",
      "metadata": {
        "id": "DDvCI3FogFt3"
      },
      "source": [
        "from sklearn.model_selection import train_test_split\n",
        "x_train, x_test, y_train, y_test = train_test_split(x_scaled, y_scaled, train_size = 0.8, random_state= 10)"
      ],
      "execution_count": null,
      "outputs": []
    },
    {
      "cell_type": "markdown",
      "metadata": {
        "id": "ctPYJ0ueo7We"
      },
      "source": [
        "#Applying ANN"
      ]
    },
    {
      "cell_type": "code",
      "metadata": {
        "id": "mfxotVi6gwRk"
      },
      "source": [
        "import tensorflow.keras"
      ],
      "execution_count": null,
      "outputs": []
    },
    {
      "cell_type": "code",
      "metadata": {
        "id": "tpas3-zngFw-"
      },
      "source": [
        "from keras.models import Sequential\n",
        "from keras.layers import Dense"
      ],
      "execution_count": null,
      "outputs": []
    },
    {
      "cell_type": "markdown",
      "metadata": {
        "id": "l2VRr4artACc"
      },
      "source": [
        "Adding Layers"
      ]
    },
    {
      "cell_type": "code",
      "metadata": {
        "id": "RAOTlHNIgFz3"
      },
      "source": [
        "ann_model = Sequential()\n",
        "ann_model.add(Dense(35,input_dim=5,activation='relu',)) #input layer\n",
        "ann_model.add(Dense(35,activation='relu')) #hidden layer\n",
        "ann_model.add(Dense(1,activation='linear')) #output layer"
      ],
      "execution_count": null,
      "outputs": []
    },
    {
      "cell_type": "code",
      "metadata": {
        "colab": {
          "base_uri": "https://localhost:8080/"
        },
        "id": "z5kiWWDIgF6f",
        "outputId": "3b70c46f-d4b9-4ccc-b694-438624178139"
      },
      "source": [
        "ann_model.summary()"
      ],
      "execution_count": null,
      "outputs": [
        {
          "output_type": "stream",
          "text": [
            "Model: \"sequential_4\"\n",
            "_________________________________________________________________\n",
            "Layer (type)                 Output Shape              Param #   \n",
            "=================================================================\n",
            "dense_9 (Dense)              (None, 35)                210       \n",
            "_________________________________________________________________\n",
            "dense_10 (Dense)             (None, 35)                1260      \n",
            "_________________________________________________________________\n",
            "dense_11 (Dense)             (None, 1)                 36        \n",
            "=================================================================\n",
            "Total params: 1,506\n",
            "Trainable params: 1,506\n",
            "Non-trainable params: 0\n",
            "_________________________________________________________________\n"
          ],
          "name": "stdout"
        }
      ]
    },
    {
      "cell_type": "code",
      "metadata": {
        "id": "-v60IxlVhItC"
      },
      "source": [
        "ann_model.compile(optimizer='adam', loss='mean_squared_error')"
      ],
      "execution_count": null,
      "outputs": []
    },
    {
      "cell_type": "markdown",
      "metadata": {
        "id": "7KKpDq_4tiQF"
      },
      "source": [
        "Optimizer is Gradient decent method\n",
        "Binary Cross Entropy ---For Classification in place of loss"
      ]
    },
    {
      "cell_type": "code",
      "metadata": {
        "colab": {
          "base_uri": "https://localhost:8080/"
        },
        "id": "Rr56qdQJhIqp",
        "outputId": "11d145df-7267-4bea-e517-577a2d01cd80"
      },
      "source": [
        "epochs_hist = ann_model.fit(x_train,y_train, epochs = 20, batch_size=25)"
      ],
      "execution_count": null,
      "outputs": [
        {
          "output_type": "stream",
          "text": [
            "Epoch 1/20\n",
            "16/16 [==============================] - 1s 2ms/step - loss: 0.0246\n",
            "Epoch 2/20\n",
            "16/16 [==============================] - 0s 2ms/step - loss: 0.0101\n",
            "Epoch 3/20\n",
            "16/16 [==============================] - 0s 2ms/step - loss: 0.0077\n",
            "Epoch 4/20\n",
            "16/16 [==============================] - 0s 2ms/step - loss: 0.0044\n",
            "Epoch 5/20\n",
            "16/16 [==============================] - 0s 2ms/step - loss: 0.0024\n",
            "Epoch 6/20\n",
            "16/16 [==============================] - 0s 2ms/step - loss: 0.0015\n",
            "Epoch 7/20\n",
            "16/16 [==============================] - 0s 2ms/step - loss: 0.0011\n",
            "Epoch 8/20\n",
            "16/16 [==============================] - 0s 2ms/step - loss: 7.4181e-04\n",
            "Epoch 9/20\n",
            "16/16 [==============================] - 0s 2ms/step - loss: 6.2755e-04\n",
            "Epoch 10/20\n",
            "16/16 [==============================] - 0s 2ms/step - loss: 5.3858e-04\n",
            "Epoch 11/20\n",
            "16/16 [==============================] - 0s 2ms/step - loss: 3.6104e-04\n",
            "Epoch 12/20\n",
            "16/16 [==============================] - 0s 3ms/step - loss: 3.4875e-04\n",
            "Epoch 13/20\n",
            "16/16 [==============================] - 0s 2ms/step - loss: 2.9356e-04\n",
            "Epoch 14/20\n",
            "16/16 [==============================] - 0s 2ms/step - loss: 2.4233e-04\n",
            "Epoch 15/20\n",
            "16/16 [==============================] - 0s 2ms/step - loss: 1.6475e-04\n",
            "Epoch 16/20\n",
            "16/16 [==============================] - 0s 2ms/step - loss: 1.1911e-04\n",
            "Epoch 17/20\n",
            "16/16 [==============================] - 0s 2ms/step - loss: 1.1321e-04\n",
            "Epoch 18/20\n",
            "16/16 [==============================] - 0s 2ms/step - loss: 8.3451e-05\n",
            "Epoch 19/20\n",
            "16/16 [==============================] - 0s 3ms/step - loss: 7.3725e-05\n",
            "Epoch 20/20\n",
            "16/16 [==============================] - 0s 3ms/step - loss: 6.6308e-05\n"
          ],
          "name": "stdout"
        }
      ]
    },
    {
      "cell_type": "code",
      "metadata": {
        "colab": {
          "base_uri": "https://localhost:8080/"
        },
        "id": "HqYDpoHjhIoF",
        "outputId": "4ed0046a-8f4d-4f52-af3c-2e4072fd9029"
      },
      "source": [
        "print(epochs_hist.history.keys())"
      ],
      "execution_count": null,
      "outputs": [
        {
          "output_type": "stream",
          "text": [
            "dict_keys(['loss'])\n"
          ],
          "name": "stdout"
        }
      ]
    },
    {
      "cell_type": "code",
      "metadata": {
        "colab": {
          "base_uri": "https://localhost:8080/",
          "height": 338
        },
        "id": "qYsHMbHJh38v",
        "outputId": "937cabb2-c696-4abb-d76d-32a6e0bf7ebd"
      },
      "source": [
        "plt.plot(epochs_hist.history['loss'], color = 'Blue')\n",
        "plt.title('Model Loss Progression During Training')\n",
        "plt.ylabel('Training Losses')\n",
        "plt.xlabel('Epoch Number')\n",
        "plt.legend(['Training Loss'])"
      ],
      "execution_count": null,
      "outputs": [
        {
          "output_type": "execute_result",
          "data": {
            "text/plain": [
              "<matplotlib.legend.Legend at 0x7fbae0c90f50>"
            ]
          },
          "metadata": {
            "tags": []
          },
          "execution_count": 263
        },
        {
          "output_type": "display_data",
          "data": {
            "image/png": "[encoded data removed]",
            "text/plain": [
              "<Figure size 432x288 with 1 Axes>"
            ]
          },
          "metadata": {
            "tags": []
          }
        }
      ]
    },
    {
      "cell_type": "code",
      "metadata": {
        "id": "uJf_B-8dh35G"
      },
      "source": [
        "x_testing = np.array([[1,\t57.313749\t,59729.15130,\t5358.712177,\t560304.0671]])"
      ],
      "execution_count": null,
      "outputs": []
    },
    {
      "cell_type": "code",
      "metadata": {
        "id": "yLiQcN-xh32n"
      },
      "source": [
        "y_pred = ann_model.predict(x_testing)"
      ],
      "execution_count": null,
      "outputs": []
    },
    {
      "cell_type": "code",
      "metadata": {
        "colab": {
          "base_uri": "https://localhost:8080/"
        },
        "id": "ta2jk70Kh30F",
        "outputId": "db51efbc-7d3e-406b-f25f-3ead3d6374c7"
      },
      "source": [
        "y_pred"
      ],
      "execution_count": null,
      "outputs": [
        {
          "output_type": "execute_result",
          "data": {
            "text/plain": [
              "array([[155746.19]], dtype=float32)"
            ]
          },
          "metadata": {
            "tags": []
          },
          "execution_count": 237
        }
      ]
    },
    {
      "cell_type": "markdown",
      "metadata": {
        "id": "mU82lNF-i_gv"
      },
      "source": [
        "Original value = 55915.46248\n",
        "Predicted Value = 155746.19\n"
      ]
    },
    {
      "cell_type": "markdown",
      "metadata": {
        "id": "G_SGiMqljQvo"
      },
      "source": [
        "#R2_Score"
      ]
    },
    {
      "cell_type": "code",
      "metadata": {
        "id": "FVJGrZ1Uh3xb"
      },
      "source": [
        "from sklearn.metrics import r2_score"
      ],
      "execution_count": null,
      "outputs": []
    },
    {
      "cell_type": "code",
      "metadata": {
        "id": "5qctNeOSjnFy"
      },
      "source": [
        "y_predi = ann_model.predict(x_test)"
      ],
      "execution_count": null,
      "outputs": []
    },
    {
      "cell_type": "code",
      "metadata": {
        "colab": {
          "base_uri": "https://localhost:8080/"
        },
        "id": "GELEkNSxh3uN",
        "outputId": "8faca538-d2bb-41d1-d215-9db5dd1f2f6d"
      },
      "source": [
        "r2_score(y_test, y_predi)"
      ],
      "execution_count": null,
      "outputs": [
        {
          "output_type": "execute_result",
          "data": {
            "text/plain": [
              "0.9971737750518057"
            ]
          },
          "metadata": {
            "tags": []
          },
          "execution_count": 240
        }
      ]
    },
    {
      "cell_type": "code",
      "metadata": {
        "id": "yvRSEZTawrb4"
      },
      "source": [
        "from sklearn.metrics import mean_squared_error, max_error,  explained_variance_score"
      ],
      "execution_count": null,
      "outputs": []
    },
    {
      "cell_type": "code",
      "metadata": {
        "colab": {
          "base_uri": "https://localhost:8080/"
        },
        "id": "8E8OJ1Xtwrf0",
        "outputId": "abba952f-cfd3-44b8-bffb-a57ef97f2942"
      },
      "source": [
        "mean_squared_error(y_test, y_predi)"
      ],
      "execution_count": null,
      "outputs": [
        {
          "output_type": "execute_result",
          "data": {
            "text/plain": [
              "5.31914416427467e-05"
            ]
          },
          "metadata": {
            "tags": []
          },
          "execution_count": 259
        }
      ]
    },
    {
      "cell_type": "code",
      "metadata": {
        "colab": {
          "base_uri": "https://localhost:8080/"
        },
        "id": "irpZ_trmw5wA",
        "outputId": "c4cbb30c-6407-4bb0-e039-81b012376d2e"
      },
      "source": [
        "max_error(y_test, y_predi)"
      ],
      "execution_count": null,
      "outputs": [
        {
          "output_type": "execute_result",
          "data": {
            "text/plain": [
              "0.03756560388864427"
            ]
          },
          "metadata": {
            "tags": []
          },
          "execution_count": 261
        }
      ]
    },
    {
      "cell_type": "code",
      "metadata": {
        "colab": {
          "base_uri": "https://localhost:8080/"
        },
        "id": "VDX0fJ3lw5zg",
        "outputId": "68f81400-b755-4a04-ea68-30c8d63d37ef"
      },
      "source": [
        "explained_variance_score(y_test, y_predi)"
      ],
      "execution_count": null,
      "outputs": [
        {
          "output_type": "execute_result",
          "data": {
            "text/plain": [
              "0.9971757624284395"
            ]
          },
          "metadata": {
            "tags": []
          },
          "execution_count": 266
        }
      ]
    },
    {
      "cell_type": "code",
      "metadata": {
        "id": "CoX8An2Dwrjp"
      },
      "source": [
        ""
      ],
      "execution_count": null,
      "outputs": []
    },
    {
      "cell_type": "markdown",
      "metadata": {
        "id": "ubMQw_wCkGbu"
      },
      "source": [
        "#Linear Regression"
      ]
    },
    {
      "cell_type": "code",
      "metadata": {
        "colab": {
          "base_uri": "https://localhost:8080/"
        },
        "id": "obbfnEUkhIk8",
        "outputId": "376eaed4-592e-4cc9-fd39-5bee4387acaa"
      },
      "source": [
        "from sklearn.linear_model import LinearRegression\n",
        "lrm = LinearRegression()\n",
        "lrm.fit(x_train, y_train)"
      ],
      "execution_count": null,
      "outputs": [
        {
          "output_type": "execute_result",
          "data": {
            "text/plain": [
              "LinearRegression(copy_X=True, fit_intercept=True, n_jobs=None, normalize=False)"
            ]
          },
          "metadata": {
            "tags": []
          },
          "execution_count": 241
        }
      ]
    },
    {
      "cell_type": "code",
      "metadata": {
        "id": "W7e_c1eHkfi8"
      },
      "source": [
        "y_pred_lrm = lrm.predict(x_test)"
      ],
      "execution_count": null,
      "outputs": []
    },
    {
      "cell_type": "code",
      "metadata": {
        "colab": {
          "base_uri": "https://localhost:8080/"
        },
        "id": "Ru5f4fFBkfmB",
        "outputId": "2671de5f-ff85-4f8f-eda5-e6d29ffb451a"
      },
      "source": [
        "r2_score(y_test, y_pred_lrm)"
      ],
      "execution_count": null,
      "outputs": [
        {
          "output_type": "execute_result",
          "data": {
            "text/plain": [
              "0.999999974803728"
            ]
          },
          "metadata": {
            "tags": []
          },
          "execution_count": 243
        }
      ]
    },
    {
      "cell_type": "code",
      "metadata": {
        "id": "rG_RqV09kfo-"
      },
      "source": [
        "x_testing_lrm = np.array([[1,\t57.313749\t,59729.15130,\t5358.712177,\t560304.0671]])"
      ],
      "execution_count": null,
      "outputs": []
    },
    {
      "cell_type": "code",
      "metadata": {
        "id": "cROopCysk6Eo"
      },
      "source": [
        "y_pred_lrm1 = lrm.predict(x_testing_lrm)"
      ],
      "execution_count": null,
      "outputs": []
    },
    {
      "cell_type": "code",
      "metadata": {
        "colab": {
          "base_uri": "https://localhost:8080/"
        },
        "id": "QwADPJZik6Bh",
        "outputId": "69a73637-0b11-40a8-a8ee-f3630fe71d02"
      },
      "source": [
        "y_pred_lrm1"
      ],
      "execution_count": null,
      "outputs": [
        {
          "output_type": "execute_result",
          "data": {
            "text/plain": [
              "array([[262031.72530102]])"
            ]
          },
          "metadata": {
            "tags": []
          },
          "execution_count": 246
        }
      ]
    },
    {
      "cell_type": "markdown",
      "metadata": {
        "id": "qqOCLlnXlUzn"
      },
      "source": [
        "Original value = 55915.46248\n",
        "Predicted Value =262031.72530102"
      ]
    },
    {
      "cell_type": "markdown",
      "metadata": {
        "id": "2G3gpQ6snpHi"
      },
      "source": [
        "#Extra Treeregressor"
      ]
    },
    {
      "cell_type": "code",
      "metadata": {
        "colab": {
          "base_uri": "https://localhost:8080/"
        },
        "id": "2zNsjay2k5-0",
        "outputId": "54739820-10c7-4e25-dabe-bdacb710dfe2"
      },
      "source": [
        "from sklearn.ensemble import ExtraTreesRegressor\n",
        "extra = ExtraTreesRegressor()\n",
        "extra.fit(x_train, y_train)"
      ],
      "execution_count": null,
      "outputs": [
        {
          "output_type": "stream",
          "text": [
            "/usr/local/lib/python3.7/dist-packages/ipykernel_launcher.py:3: DataConversionWarning: A column-vector y was passed when a 1d array was expected. Please change the shape of y to (n_samples,), for example using ravel().\n",
            "  This is separate from the ipykernel package so we can avoid doing imports until\n"
          ],
          "name": "stderr"
        },
        {
          "output_type": "execute_result",
          "data": {
            "text/plain": [
              "ExtraTreesRegressor(bootstrap=False, ccp_alpha=0.0, criterion='mse',\n",
              "                    max_depth=None, max_features='auto', max_leaf_nodes=None,\n",
              "                    max_samples=None, min_impurity_decrease=0.0,\n",
              "                    min_impurity_split=None, min_samples_leaf=1,\n",
              "                    min_samples_split=2, min_weight_fraction_leaf=0.0,\n",
              "                    n_estimators=100, n_jobs=None, oob_score=False,\n",
              "                    random_state=None, verbose=0, warm_start=False)"
            ]
          },
          "metadata": {
            "tags": []
          },
          "execution_count": 247
        }
      ]
    },
    {
      "cell_type": "code",
      "metadata": {
        "colab": {
          "base_uri": "https://localhost:8080/"
        },
        "id": "fpIRKO0MlbY1",
        "outputId": "0931cf7f-09b5-435b-cdb2-c358eea4b1e9"
      },
      "source": [
        "y_pred_extra = extra.predict(x_test)\n",
        "r2_score(y_test, y_pred_extra)"
      ],
      "execution_count": null,
      "outputs": [
        {
          "output_type": "execute_result",
          "data": {
            "text/plain": [
              "0.9789907180584547"
            ]
          },
          "metadata": {
            "tags": []
          },
          "execution_count": 248
        }
      ]
    },
    {
      "cell_type": "code",
      "metadata": {
        "colab": {
          "base_uri": "https://localhost:8080/"
        },
        "id": "WO_SqDpplbNi",
        "outputId": "ce1206e0-2aa5-4fd3-897b-802bc6930527"
      },
      "source": [
        "x_testing_extra = np.array([[1,\t57.313749\t,59729.15130,\t5358.712177,\t560304.0671]])\n",
        "y_pred_extra1 = extra.predict(x_testing_extra)\n",
        "y_pred_extra1"
      ],
      "execution_count": null,
      "outputs": [
        {
          "output_type": "execute_result",
          "data": {
            "text/plain": [
              "array([0.96726776])"
            ]
          },
          "metadata": {
            "tags": []
          },
          "execution_count": 249
        }
      ]
    },
    {
      "cell_type": "markdown",
      "metadata": {
        "id": "zmdVNB2_n__u"
      },
      "source": [
        "#Random Forest"
      ]
    },
    {
      "cell_type": "code",
      "metadata": {
        "colab": {
          "base_uri": "https://localhost:8080/"
        },
        "id": "K-0zsIgKn5yW",
        "outputId": "ac18d000-03f9-4866-c7f9-acd25dc3a3e2"
      },
      "source": [
        "from sklearn.ensemble import RandomForestRegressor\n",
        "rand = RandomForestRegressor()\n",
        "rand.fit(x_train, y_train)\n",
        "y_pred_rand = rand.predict(x_test)\n",
        "x_testing_rand = np.array([[1,\t57.313749\t,59729.15130,\t5358.712177,\t560304.0671]])\n",
        "y_pred_rand1 = rand.predict(x_testing_extra)\n",
        "y_pred_rand1"
      ],
      "execution_count": null,
      "outputs": [
        {
          "output_type": "stream",
          "text": [
            "/usr/local/lib/python3.7/dist-packages/ipykernel_launcher.py:3: DataConversionWarning: A column-vector y was passed when a 1d array was expected. Please change the shape of y to (n_samples,), for example using ravel().\n",
            "  This is separate from the ipykernel package so we can avoid doing imports until\n"
          ],
          "name": "stderr"
        },
        {
          "output_type": "execute_result",
          "data": {
            "text/plain": [
              "array([0.93690801])"
            ]
          },
          "metadata": {
            "tags": []
          },
          "execution_count": 253
        }
      ]
    },
    {
      "cell_type": "code",
      "metadata": {
        "colab": {
          "base_uri": "https://localhost:8080/"
        },
        "id": "vdfkAe44n5u5",
        "outputId": "55d21ee9-7e7b-45b1-8465-ce00e4850886"
      },
      "source": [
        "r2_score(y_test, y_pred_rand)"
      ],
      "execution_count": null,
      "outputs": [
        {
          "output_type": "execute_result",
          "data": {
            "text/plain": [
              "0.9586613042575811"
            ]
          },
          "metadata": {
            "tags": []
          },
          "execution_count": 251
        }
      ]
    },
    {
      "cell_type": "code",
      "metadata": {
        "id": "GpsrxvvXwbxZ"
      },
      "source": [
        "from sklearn.metrics import mean_squared_error"
      ],
      "execution_count": null,
      "outputs": []
    },
    {
      "cell_type": "code",
      "metadata": {
        "colab": {
          "base_uri": "https://localhost:8080/"
        },
        "id": "wfeQpkHvwbuV",
        "outputId": "9d2cf462-1980-415c-ca46-85906c7ba5b3"
      },
      "source": [
        "mean_squared_error(y_test, y_pred_rand)"
      ],
      "execution_count": null,
      "outputs": [
        {
          "output_type": "execute_result",
          "data": {
            "text/plain": [
              "0.0007211160147231073"
            ]
          },
          "metadata": {
            "tags": []
          },
          "execution_count": 258
        }
      ]
    }
  ]
}